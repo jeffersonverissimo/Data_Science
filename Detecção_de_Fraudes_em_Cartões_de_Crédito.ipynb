{
  "nbformat": 4,
  "nbformat_minor": 0,
  "metadata": {
    "colab": {
      "name": "Detecção de Fraudes em Cartões de Crédito.ipynb",
      "provenance": [],
      "authorship_tag": "ABX9TyM8JrCi8lkZ/+W4xuwmSKa5"
    },
    "kernelspec": {
      "name": "python3",
      "display_name": "Python 3"
    }
  },
  "cells": [
    {
      "cell_type": "markdown",
      "metadata": {
        "id": "aE8odA59a_57"
      },
      "source": [
        "![texto alternativo](https://www.moneyunder30.com/images/2016/02/securedcreditcards.jpg)"
      ]
    },
    {
      "cell_type": "markdown",
      "metadata": {
        "id": "jGtnimjkbEJf"
      },
      "source": [
        "---\n",
        "\n",
        "# **USO DE MACHINE LEARNING NA DETECÇÃO DE FRAUDES EM CARTÕES DE CRÉDITO**\n",
        "\n",
        "---\n",
        "---\n",
        "\n",
        "Última atualização em 25 de dezembro de 2020\n",
        "\n",
        "---\n",
        "\n",
        "Diariamente, diversas operadoras de cartões de créditos captam milhares de clientes em todo o mundo, e o número de transações eletrônicas tem aumentado significativamente nos últimos anos. Para se ter uma ideia, de acordo com o Banco Central, apenas em 2017, as transações com cartões de crédito somaram cerca de R$ 674 bilhões, e o uso dessa forma de pagamento cresce a taxas substanciais ano após ano (VIEIRA, 2019).\n",
        "\n",
        "A ideia dos cartões de créditos nasceu na década de 1920 nos Estados Unidos da América, quando algumas empresas privadas, especialmente do ramo hoteleiro e do petróleo, começaram a emitir cartões para possibilitar que seus clientes comprassem a crédito nos próprios estabelecimentos. Mais tarde, em 1950, Frank MacNamara aprimorou a ideia e lançou o Diners Club, focado na aceitação em massa e menores taxas.\n",
        "\n",
        "**Tipos de Fraudes**\n",
        "\n",
        "Dentre os diversos tipos de fraudes ocorridas no mercado, as mais comuns são (OLIVEIRA, 2016):\n",
        "\n",
        "* **Invasão de Conta**: neste tipo de fraude, os criminosos obtêm informações pessoais de clientes, como número de contas e senhas, com o intuito de solicitar pagamentos, empréstimos e outros serviços bancários que estejam disponíveis;\n",
        "\n",
        "* **Roubo de identidade**: neste caso, de posse de informações pessoais, os fraudadores abrem contas novas para tirarem proveito financeiro. Basicamente, é o uso ilegal de informações de terceiros para realizar uma solicitação fraudulenta;\n",
        "\n",
        "* **Cartão perdido ou roubado**: aqui, os fraudadores tomam posse de um cartão perdido por seu verdadeiro titular, ou roubado pelo próprio fraudador, e realizam transações com ele;\n",
        "\n",
        "* **Extravio**: ocorre quando cartões e suas respectivas senhas são roubados no processo de envio do emissor do cartão para o portador/cliente;\n",
        "\n",
        "* **Falsificação de cartão**: falsificação, ou clonagem, de um cartão acontece quando um cartão é montado, sem a autorização do emissor, com os mesmos dados de um outro cartão que, por sua vez, foi emitido legitimamente.\n",
        "\n",
        "**Detecção de Fraudes**\n",
        "\n",
        "De acordo com o Serasa, apenas no ano de 2019, o Brasil sofreu uma tentativa de fraude a cada 6,5 segundos em ambientes online. E no ano de 2020, essas tentativas aumentaram devido ao crescente número de compras no comércio eletrônico durante a Pandemia da COVID-19.\n",
        "\n",
        "Para tentar contornar e evitar esses problemas, as empresas de cartões de crédito têm investido cada vez mais em tecnologias que possam detectar essas possíveis fraudes e garantir a segurança dos dados de seus clientes."
      ]
    },
    {
      "cell_type": "markdown",
      "metadata": {
        "id": "cBW5aUvj5Muh"
      },
      "source": [
        "## **Proposta deste Projeto**\n",
        "\n",
        "A partir de dados de operações financeiras com cartões de crédito fornecidos por diversas empresas europeias, o principal objetivo deste artigo é implementar um modelo de Machine Learning que consiga prever quais transações são ou não fraudulentas, usando aprendizado supervisionado."
      ]
    },
    {
      "cell_type": "markdown",
      "metadata": {
        "id": "Eg4sYDyo74JT"
      },
      "source": [
        "## **Obtenção dos Dados**\n",
        "\n",
        "O dataset utilizado no presente trabalho reúne cerca de 290 mil dados de transações financeiras realizadas em um período de dois dias, fornecidos por empresas da Europa. Como é de se esperar, o número de operações fraudulentas é muito inferior em comparação às transações normais, resultando em um conjunto de dados altamente desbalanceado.\n",
        "\n",
        "Um detalhe interessante é que as features são todas numéricas, e foram descaracterizadas (por problemas relacionados à privacidade e segurança dos clientes). Assim, os nomes das colunas são representados por [V1,V2,…,V28].\n",
        "\n",
        "De acordo com a [página oficial](https://www.kaggle.com/mlg-ulb/creditcardfraud) onde os dados estão hospedados, o dataset passou por um procedimento conhecido como Análise dos Componentes Principais (*Principal Component Analysis - PCA*), cujo objetivo é obter uma simplificação do dataset através da redução da dimensão dos dados, extraindo as partes mais relevantes do conjunto de dados. No caso deste projeto, os componentes achados pela transformação da PCA são as próprias colunas [V1,V2,…,V28]."
      ]
    },
    {
      "cell_type": "markdown",
      "metadata": {
        "id": "TRFtYhBI7S4S"
      },
      "source": [
        "## **Análise Exploratória**\n",
        "\n",
        "Na maior parte dos projetos de Data Science, uma das primeiras etapas, e a que mais consume tempo, é a análise exploratória de dados.\n",
        "\n",
        "Esta etapa nos permite extrair as principais informações do conjunto de dados, nos auxiliando a entender o comportamento dos dados e quais os passos seguintes devem ser tomados para encontrar as soluções desejadas e também implementar os modelos de *Machine Learning*.\n",
        "\n",
        "Inicialmente, precisamos importar as principais bibliotecas que serão utilizadas ao longo da resolução do problema, que são:\n",
        "\n",
        "* Pandas;\n",
        "* Matplotlib;\n",
        "* Seaborn; e\n",
        "* Numpy.\n",
        "\n",
        "Caso haja a necessidade de utilizar alguma outra *lib*, como *Scikit-Learn*, será importada ademais. "
      ]
    },
    {
      "cell_type": "code",
      "metadata": {
        "id": "wLxiqwyga-6i"
      },
      "source": [
        "# IMPORTAÇÃO DAS PRINCIPAIS BIBLIOTECAS PARA ANÁLISE DE DADOS\n",
        "\n",
        "import pandas as pd\n",
        "import numpy as np\n",
        "import matplotlib.pyplot as plt\n",
        "%matplotlib inline\n",
        "\n",
        "import seaborn as sns\n",
        "sns.set_style()"
      ],
      "execution_count": 1,
      "outputs": []
    },
    {
      "cell_type": "code",
      "metadata": {
        "id": "5WLqR5tui6Nn"
      },
      "source": [
        "# IMPORTAÇÃO DO DATASET\n",
        "\n",
        "df = pd.read_csv('https://www.dropbox.com/s/b44o3t3ehmnx2b7/creditcard.csv?dl=1')"
      ],
      "execution_count": 2,
      "outputs": []
    },
    {
      "cell_type": "code",
      "metadata": {
        "colab": {
          "base_uri": "https://localhost:8080/",
          "height": 223
        },
        "id": "TGdBDV455n3z",
        "outputId": "c1ec3953-d328-47ab-c4bb-1c21cfad5915"
      },
      "source": [
        "# VISUALIZANDO AS PRIMEIRAS LINHAS DO DATASET\n",
        "\n",
        "df.head()"
      ],
      "execution_count": 3,
      "outputs": [
        {
          "output_type": "execute_result",
          "data": {
            "text/html": [
              "<div>\n",
              "<style scoped>\n",
              "    .dataframe tbody tr th:only-of-type {\n",
              "        vertical-align: middle;\n",
              "    }\n",
              "\n",
              "    .dataframe tbody tr th {\n",
              "        vertical-align: top;\n",
              "    }\n",
              "\n",
              "    .dataframe thead th {\n",
              "        text-align: right;\n",
              "    }\n",
              "</style>\n",
              "<table border=\"1\" class=\"dataframe\">\n",
              "  <thead>\n",
              "    <tr style=\"text-align: right;\">\n",
              "      <th></th>\n",
              "      <th>Time</th>\n",
              "      <th>V1</th>\n",
              "      <th>V2</th>\n",
              "      <th>V3</th>\n",
              "      <th>V4</th>\n",
              "      <th>V5</th>\n",
              "      <th>V6</th>\n",
              "      <th>V7</th>\n",
              "      <th>V8</th>\n",
              "      <th>V9</th>\n",
              "      <th>V10</th>\n",
              "      <th>V11</th>\n",
              "      <th>V12</th>\n",
              "      <th>V13</th>\n",
              "      <th>V14</th>\n",
              "      <th>V15</th>\n",
              "      <th>V16</th>\n",
              "      <th>V17</th>\n",
              "      <th>V18</th>\n",
              "      <th>V19</th>\n",
              "      <th>V20</th>\n",
              "      <th>V21</th>\n",
              "      <th>V22</th>\n",
              "      <th>V23</th>\n",
              "      <th>V24</th>\n",
              "      <th>V25</th>\n",
              "      <th>V26</th>\n",
              "      <th>V27</th>\n",
              "      <th>V28</th>\n",
              "      <th>Amount</th>\n",
              "      <th>Class</th>\n",
              "    </tr>\n",
              "  </thead>\n",
              "  <tbody>\n",
              "    <tr>\n",
              "      <th>0</th>\n",
              "      <td>0.0</td>\n",
              "      <td>-1.359807</td>\n",
              "      <td>-0.072781</td>\n",
              "      <td>2.536347</td>\n",
              "      <td>1.378155</td>\n",
              "      <td>-0.338321</td>\n",
              "      <td>0.462388</td>\n",
              "      <td>0.239599</td>\n",
              "      <td>0.098698</td>\n",
              "      <td>0.363787</td>\n",
              "      <td>0.090794</td>\n",
              "      <td>-0.551600</td>\n",
              "      <td>-0.617801</td>\n",
              "      <td>-0.991390</td>\n",
              "      <td>-0.311169</td>\n",
              "      <td>1.468177</td>\n",
              "      <td>-0.470401</td>\n",
              "      <td>0.207971</td>\n",
              "      <td>0.025791</td>\n",
              "      <td>0.403993</td>\n",
              "      <td>0.251412</td>\n",
              "      <td>-0.018307</td>\n",
              "      <td>0.277838</td>\n",
              "      <td>-0.110474</td>\n",
              "      <td>0.066928</td>\n",
              "      <td>0.128539</td>\n",
              "      <td>-0.189115</td>\n",
              "      <td>0.133558</td>\n",
              "      <td>-0.021053</td>\n",
              "      <td>149.62</td>\n",
              "      <td>0</td>\n",
              "    </tr>\n",
              "    <tr>\n",
              "      <th>1</th>\n",
              "      <td>0.0</td>\n",
              "      <td>1.191857</td>\n",
              "      <td>0.266151</td>\n",
              "      <td>0.166480</td>\n",
              "      <td>0.448154</td>\n",
              "      <td>0.060018</td>\n",
              "      <td>-0.082361</td>\n",
              "      <td>-0.078803</td>\n",
              "      <td>0.085102</td>\n",
              "      <td>-0.255425</td>\n",
              "      <td>-0.166974</td>\n",
              "      <td>1.612727</td>\n",
              "      <td>1.065235</td>\n",
              "      <td>0.489095</td>\n",
              "      <td>-0.143772</td>\n",
              "      <td>0.635558</td>\n",
              "      <td>0.463917</td>\n",
              "      <td>-0.114805</td>\n",
              "      <td>-0.183361</td>\n",
              "      <td>-0.145783</td>\n",
              "      <td>-0.069083</td>\n",
              "      <td>-0.225775</td>\n",
              "      <td>-0.638672</td>\n",
              "      <td>0.101288</td>\n",
              "      <td>-0.339846</td>\n",
              "      <td>0.167170</td>\n",
              "      <td>0.125895</td>\n",
              "      <td>-0.008983</td>\n",
              "      <td>0.014724</td>\n",
              "      <td>2.69</td>\n",
              "      <td>0</td>\n",
              "    </tr>\n",
              "    <tr>\n",
              "      <th>2</th>\n",
              "      <td>1.0</td>\n",
              "      <td>-1.358354</td>\n",
              "      <td>-1.340163</td>\n",
              "      <td>1.773209</td>\n",
              "      <td>0.379780</td>\n",
              "      <td>-0.503198</td>\n",
              "      <td>1.800499</td>\n",
              "      <td>0.791461</td>\n",
              "      <td>0.247676</td>\n",
              "      <td>-1.514654</td>\n",
              "      <td>0.207643</td>\n",
              "      <td>0.624501</td>\n",
              "      <td>0.066084</td>\n",
              "      <td>0.717293</td>\n",
              "      <td>-0.165946</td>\n",
              "      <td>2.345865</td>\n",
              "      <td>-2.890083</td>\n",
              "      <td>1.109969</td>\n",
              "      <td>-0.121359</td>\n",
              "      <td>-2.261857</td>\n",
              "      <td>0.524980</td>\n",
              "      <td>0.247998</td>\n",
              "      <td>0.771679</td>\n",
              "      <td>0.909412</td>\n",
              "      <td>-0.689281</td>\n",
              "      <td>-0.327642</td>\n",
              "      <td>-0.139097</td>\n",
              "      <td>-0.055353</td>\n",
              "      <td>-0.059752</td>\n",
              "      <td>378.66</td>\n",
              "      <td>0</td>\n",
              "    </tr>\n",
              "    <tr>\n",
              "      <th>3</th>\n",
              "      <td>1.0</td>\n",
              "      <td>-0.966272</td>\n",
              "      <td>-0.185226</td>\n",
              "      <td>1.792993</td>\n",
              "      <td>-0.863291</td>\n",
              "      <td>-0.010309</td>\n",
              "      <td>1.247203</td>\n",
              "      <td>0.237609</td>\n",
              "      <td>0.377436</td>\n",
              "      <td>-1.387024</td>\n",
              "      <td>-0.054952</td>\n",
              "      <td>-0.226487</td>\n",
              "      <td>0.178228</td>\n",
              "      <td>0.507757</td>\n",
              "      <td>-0.287924</td>\n",
              "      <td>-0.631418</td>\n",
              "      <td>-1.059647</td>\n",
              "      <td>-0.684093</td>\n",
              "      <td>1.965775</td>\n",
              "      <td>-1.232622</td>\n",
              "      <td>-0.208038</td>\n",
              "      <td>-0.108300</td>\n",
              "      <td>0.005274</td>\n",
              "      <td>-0.190321</td>\n",
              "      <td>-1.175575</td>\n",
              "      <td>0.647376</td>\n",
              "      <td>-0.221929</td>\n",
              "      <td>0.062723</td>\n",
              "      <td>0.061458</td>\n",
              "      <td>123.50</td>\n",
              "      <td>0</td>\n",
              "    </tr>\n",
              "    <tr>\n",
              "      <th>4</th>\n",
              "      <td>2.0</td>\n",
              "      <td>-1.158233</td>\n",
              "      <td>0.877737</td>\n",
              "      <td>1.548718</td>\n",
              "      <td>0.403034</td>\n",
              "      <td>-0.407193</td>\n",
              "      <td>0.095921</td>\n",
              "      <td>0.592941</td>\n",
              "      <td>-0.270533</td>\n",
              "      <td>0.817739</td>\n",
              "      <td>0.753074</td>\n",
              "      <td>-0.822843</td>\n",
              "      <td>0.538196</td>\n",
              "      <td>1.345852</td>\n",
              "      <td>-1.119670</td>\n",
              "      <td>0.175121</td>\n",
              "      <td>-0.451449</td>\n",
              "      <td>-0.237033</td>\n",
              "      <td>-0.038195</td>\n",
              "      <td>0.803487</td>\n",
              "      <td>0.408542</td>\n",
              "      <td>-0.009431</td>\n",
              "      <td>0.798278</td>\n",
              "      <td>-0.137458</td>\n",
              "      <td>0.141267</td>\n",
              "      <td>-0.206010</td>\n",
              "      <td>0.502292</td>\n",
              "      <td>0.219422</td>\n",
              "      <td>0.215153</td>\n",
              "      <td>69.99</td>\n",
              "      <td>0</td>\n",
              "    </tr>\n",
              "  </tbody>\n",
              "</table>\n",
              "</div>"
            ],
            "text/plain": [
              "   Time        V1        V2        V3  ...       V27       V28  Amount  Class\n",
              "0   0.0 -1.359807 -0.072781  2.536347  ...  0.133558 -0.021053  149.62      0\n",
              "1   0.0  1.191857  0.266151  0.166480  ... -0.008983  0.014724    2.69      0\n",
              "2   1.0 -1.358354 -1.340163  1.773209  ... -0.055353 -0.059752  378.66      0\n",
              "3   1.0 -0.966272 -0.185226  1.792993  ...  0.062723  0.061458  123.50      0\n",
              "4   2.0 -1.158233  0.877737  1.548718  ...  0.219422  0.215153   69.99      0\n",
              "\n",
              "[5 rows x 31 columns]"
            ]
          },
          "metadata": {
            "tags": []
          },
          "execution_count": 3
        }
      ]
    },
    {
      "cell_type": "markdown",
      "metadata": {
        "id": "JWcwf5c8--mR"
      },
      "source": [
        "A partir da visualização das primeiras cinco linhas do conjunto de dados, pode-se perceber que a variável alvo (*target*) é a coluna `Class`, que possui os valores **0** e **1**, onde representam **transação normal** e **transação fraudulenta**, respectivamente.\n",
        "\n",
        "Também é possível observar que as variáveis `Time` e `Amount` tiveram seus valores originais preservados. E que as demais variáveis V1,..,V28, tiveram suas nomenclaturas modificadas pelo método PCA."
      ]
    },
    {
      "cell_type": "markdown",
      "metadata": {
        "id": "97aADMXtAsHl"
      },
      "source": [
        "**Agora que já sabemos a forma geral do conjunto de dados, podemos extrair alguma informações básicas.**"
      ]
    },
    {
      "cell_type": "code",
      "metadata": {
        "id": "XZBYxn1b-5U2",
        "colab": {
          "base_uri": "https://localhost:8080/"
        },
        "outputId": "8fca7abb-6e76-4d8e-b7f1-9b4599bf3d6a"
      },
      "source": [
        "# TAMANHO DO CONJUNTO DE DADOS\n",
        "\n",
        "print('Linhas: {}'.format(df.shape[0]))\n",
        "print('Colunas: {}'.format(df.shape[1]))"
      ],
      "execution_count": 4,
      "outputs": [
        {
          "output_type": "stream",
          "text": [
            "Linhas: 284807\n",
            "Colunas: 31\n"
          ],
          "name": "stdout"
        }
      ]
    },
    {
      "cell_type": "markdown",
      "metadata": {
        "id": "1VnTcCHx8i0c"
      },
      "source": [
        "Como mostrado abaixo, verifica-se, usando o comando `.isnull`, que não há valores ausentes ou os dados que precisem de tratamento específico no *dataset*, o que representa uma boa qualidade do conjunto de dados."
      ]
    },
    {
      "cell_type": "code",
      "metadata": {
        "colab": {
          "base_uri": "https://localhost:8080/"
        },
        "id": "2RcOfaJ2ASqL",
        "outputId": "bb1440d7-d62f-48dc-bc83-c04357d8e0fa"
      },
      "source": [
        "# VALORES AUSENTES\n",
        "\n",
        "((df.isnull().sum() / df.shape[0])*100).sort_values(ascending = False)"
      ],
      "execution_count": 5,
      "outputs": [
        {
          "output_type": "execute_result",
          "data": {
            "text/plain": [
              "Class     0.0\n",
              "V14       0.0\n",
              "V1        0.0\n",
              "V2        0.0\n",
              "V3        0.0\n",
              "V4        0.0\n",
              "V5        0.0\n",
              "V6        0.0\n",
              "V7        0.0\n",
              "V8        0.0\n",
              "V9        0.0\n",
              "V10       0.0\n",
              "V11       0.0\n",
              "V12       0.0\n",
              "V13       0.0\n",
              "V15       0.0\n",
              "Amount    0.0\n",
              "V16       0.0\n",
              "V17       0.0\n",
              "V18       0.0\n",
              "V19       0.0\n",
              "V20       0.0\n",
              "V21       0.0\n",
              "V22       0.0\n",
              "V23       0.0\n",
              "V24       0.0\n",
              "V25       0.0\n",
              "V26       0.0\n",
              "V27       0.0\n",
              "V28       0.0\n",
              "Time      0.0\n",
              "dtype: float64"
            ]
          },
          "metadata": {
            "tags": []
          },
          "execution_count": 5
        }
      ]
    },
    {
      "cell_type": "markdown",
      "metadata": {
        "id": "5OF0j-0UAacI"
      },
      "source": [
        "Pode-se extrair informações estatísticas básicas, seja do conjunto de dados inteiro ou de cada coluna separadamente. Por exemplo, para visualizar o resumo estatísticos de todas as variáveis juntas, usa-se a função '.describe'."
      ]
    },
    {
      "cell_type": "code",
      "metadata": {
        "colab": {
          "base_uri": "https://localhost:8080/",
          "height": 315
        },
        "id": "Jugm562WAXfx",
        "outputId": "009b5fa6-3f81-47b1-cf49-894e71fe8152"
      },
      "source": [
        "df.describe()"
      ],
      "execution_count": 6,
      "outputs": [
        {
          "output_type": "execute_result",
          "data": {
            "text/html": [
              "<div>\n",
              "<style scoped>\n",
              "    .dataframe tbody tr th:only-of-type {\n",
              "        vertical-align: middle;\n",
              "    }\n",
              "\n",
              "    .dataframe tbody tr th {\n",
              "        vertical-align: top;\n",
              "    }\n",
              "\n",
              "    .dataframe thead th {\n",
              "        text-align: right;\n",
              "    }\n",
              "</style>\n",
              "<table border=\"1\" class=\"dataframe\">\n",
              "  <thead>\n",
              "    <tr style=\"text-align: right;\">\n",
              "      <th></th>\n",
              "      <th>Time</th>\n",
              "      <th>V1</th>\n",
              "      <th>V2</th>\n",
              "      <th>V3</th>\n",
              "      <th>V4</th>\n",
              "      <th>V5</th>\n",
              "      <th>V6</th>\n",
              "      <th>V7</th>\n",
              "      <th>V8</th>\n",
              "      <th>V9</th>\n",
              "      <th>V10</th>\n",
              "      <th>V11</th>\n",
              "      <th>V12</th>\n",
              "      <th>V13</th>\n",
              "      <th>V14</th>\n",
              "      <th>V15</th>\n",
              "      <th>V16</th>\n",
              "      <th>V17</th>\n",
              "      <th>V18</th>\n",
              "      <th>V19</th>\n",
              "      <th>V20</th>\n",
              "      <th>V21</th>\n",
              "      <th>V22</th>\n",
              "      <th>V23</th>\n",
              "      <th>V24</th>\n",
              "      <th>V25</th>\n",
              "      <th>V26</th>\n",
              "      <th>V27</th>\n",
              "      <th>V28</th>\n",
              "      <th>Amount</th>\n",
              "      <th>Class</th>\n",
              "    </tr>\n",
              "  </thead>\n",
              "  <tbody>\n",
              "    <tr>\n",
              "      <th>count</th>\n",
              "      <td>284807.000000</td>\n",
              "      <td>2.848070e+05</td>\n",
              "      <td>2.848070e+05</td>\n",
              "      <td>2.848070e+05</td>\n",
              "      <td>2.848070e+05</td>\n",
              "      <td>2.848070e+05</td>\n",
              "      <td>2.848070e+05</td>\n",
              "      <td>2.848070e+05</td>\n",
              "      <td>2.848070e+05</td>\n",
              "      <td>2.848070e+05</td>\n",
              "      <td>2.848070e+05</td>\n",
              "      <td>2.848070e+05</td>\n",
              "      <td>2.848070e+05</td>\n",
              "      <td>2.848070e+05</td>\n",
              "      <td>2.848070e+05</td>\n",
              "      <td>2.848070e+05</td>\n",
              "      <td>2.848070e+05</td>\n",
              "      <td>2.848070e+05</td>\n",
              "      <td>2.848070e+05</td>\n",
              "      <td>2.848070e+05</td>\n",
              "      <td>2.848070e+05</td>\n",
              "      <td>2.848070e+05</td>\n",
              "      <td>2.848070e+05</td>\n",
              "      <td>2.848070e+05</td>\n",
              "      <td>2.848070e+05</td>\n",
              "      <td>2.848070e+05</td>\n",
              "      <td>2.848070e+05</td>\n",
              "      <td>2.848070e+05</td>\n",
              "      <td>2.848070e+05</td>\n",
              "      <td>284807.000000</td>\n",
              "      <td>284807.000000</td>\n",
              "    </tr>\n",
              "    <tr>\n",
              "      <th>mean</th>\n",
              "      <td>94813.859575</td>\n",
              "      <td>3.919560e-15</td>\n",
              "      <td>5.688174e-16</td>\n",
              "      <td>-8.769071e-15</td>\n",
              "      <td>2.782312e-15</td>\n",
              "      <td>-1.552563e-15</td>\n",
              "      <td>2.010663e-15</td>\n",
              "      <td>-1.694249e-15</td>\n",
              "      <td>-1.927028e-16</td>\n",
              "      <td>-3.137024e-15</td>\n",
              "      <td>1.768627e-15</td>\n",
              "      <td>9.170318e-16</td>\n",
              "      <td>-1.810658e-15</td>\n",
              "      <td>1.693438e-15</td>\n",
              "      <td>1.479045e-15</td>\n",
              "      <td>3.482336e-15</td>\n",
              "      <td>1.392007e-15</td>\n",
              "      <td>-7.528491e-16</td>\n",
              "      <td>4.328772e-16</td>\n",
              "      <td>9.049732e-16</td>\n",
              "      <td>5.085503e-16</td>\n",
              "      <td>1.537294e-16</td>\n",
              "      <td>7.959909e-16</td>\n",
              "      <td>5.367590e-16</td>\n",
              "      <td>4.458112e-15</td>\n",
              "      <td>1.453003e-15</td>\n",
              "      <td>1.699104e-15</td>\n",
              "      <td>-3.660161e-16</td>\n",
              "      <td>-1.206049e-16</td>\n",
              "      <td>88.349619</td>\n",
              "      <td>0.001727</td>\n",
              "    </tr>\n",
              "    <tr>\n",
              "      <th>std</th>\n",
              "      <td>47488.145955</td>\n",
              "      <td>1.958696e+00</td>\n",
              "      <td>1.651309e+00</td>\n",
              "      <td>1.516255e+00</td>\n",
              "      <td>1.415869e+00</td>\n",
              "      <td>1.380247e+00</td>\n",
              "      <td>1.332271e+00</td>\n",
              "      <td>1.237094e+00</td>\n",
              "      <td>1.194353e+00</td>\n",
              "      <td>1.098632e+00</td>\n",
              "      <td>1.088850e+00</td>\n",
              "      <td>1.020713e+00</td>\n",
              "      <td>9.992014e-01</td>\n",
              "      <td>9.952742e-01</td>\n",
              "      <td>9.585956e-01</td>\n",
              "      <td>9.153160e-01</td>\n",
              "      <td>8.762529e-01</td>\n",
              "      <td>8.493371e-01</td>\n",
              "      <td>8.381762e-01</td>\n",
              "      <td>8.140405e-01</td>\n",
              "      <td>7.709250e-01</td>\n",
              "      <td>7.345240e-01</td>\n",
              "      <td>7.257016e-01</td>\n",
              "      <td>6.244603e-01</td>\n",
              "      <td>6.056471e-01</td>\n",
              "      <td>5.212781e-01</td>\n",
              "      <td>4.822270e-01</td>\n",
              "      <td>4.036325e-01</td>\n",
              "      <td>3.300833e-01</td>\n",
              "      <td>250.120109</td>\n",
              "      <td>0.041527</td>\n",
              "    </tr>\n",
              "    <tr>\n",
              "      <th>min</th>\n",
              "      <td>0.000000</td>\n",
              "      <td>-5.640751e+01</td>\n",
              "      <td>-7.271573e+01</td>\n",
              "      <td>-4.832559e+01</td>\n",
              "      <td>-5.683171e+00</td>\n",
              "      <td>-1.137433e+02</td>\n",
              "      <td>-2.616051e+01</td>\n",
              "      <td>-4.355724e+01</td>\n",
              "      <td>-7.321672e+01</td>\n",
              "      <td>-1.343407e+01</td>\n",
              "      <td>-2.458826e+01</td>\n",
              "      <td>-4.797473e+00</td>\n",
              "      <td>-1.868371e+01</td>\n",
              "      <td>-5.791881e+00</td>\n",
              "      <td>-1.921433e+01</td>\n",
              "      <td>-4.498945e+00</td>\n",
              "      <td>-1.412985e+01</td>\n",
              "      <td>-2.516280e+01</td>\n",
              "      <td>-9.498746e+00</td>\n",
              "      <td>-7.213527e+00</td>\n",
              "      <td>-5.449772e+01</td>\n",
              "      <td>-3.483038e+01</td>\n",
              "      <td>-1.093314e+01</td>\n",
              "      <td>-4.480774e+01</td>\n",
              "      <td>-2.836627e+00</td>\n",
              "      <td>-1.029540e+01</td>\n",
              "      <td>-2.604551e+00</td>\n",
              "      <td>-2.256568e+01</td>\n",
              "      <td>-1.543008e+01</td>\n",
              "      <td>0.000000</td>\n",
              "      <td>0.000000</td>\n",
              "    </tr>\n",
              "    <tr>\n",
              "      <th>25%</th>\n",
              "      <td>54201.500000</td>\n",
              "      <td>-9.203734e-01</td>\n",
              "      <td>-5.985499e-01</td>\n",
              "      <td>-8.903648e-01</td>\n",
              "      <td>-8.486401e-01</td>\n",
              "      <td>-6.915971e-01</td>\n",
              "      <td>-7.682956e-01</td>\n",
              "      <td>-5.540759e-01</td>\n",
              "      <td>-2.086297e-01</td>\n",
              "      <td>-6.430976e-01</td>\n",
              "      <td>-5.354257e-01</td>\n",
              "      <td>-7.624942e-01</td>\n",
              "      <td>-4.055715e-01</td>\n",
              "      <td>-6.485393e-01</td>\n",
              "      <td>-4.255740e-01</td>\n",
              "      <td>-5.828843e-01</td>\n",
              "      <td>-4.680368e-01</td>\n",
              "      <td>-4.837483e-01</td>\n",
              "      <td>-4.988498e-01</td>\n",
              "      <td>-4.562989e-01</td>\n",
              "      <td>-2.117214e-01</td>\n",
              "      <td>-2.283949e-01</td>\n",
              "      <td>-5.423504e-01</td>\n",
              "      <td>-1.618463e-01</td>\n",
              "      <td>-3.545861e-01</td>\n",
              "      <td>-3.171451e-01</td>\n",
              "      <td>-3.269839e-01</td>\n",
              "      <td>-7.083953e-02</td>\n",
              "      <td>-5.295979e-02</td>\n",
              "      <td>5.600000</td>\n",
              "      <td>0.000000</td>\n",
              "    </tr>\n",
              "    <tr>\n",
              "      <th>50%</th>\n",
              "      <td>84692.000000</td>\n",
              "      <td>1.810880e-02</td>\n",
              "      <td>6.548556e-02</td>\n",
              "      <td>1.798463e-01</td>\n",
              "      <td>-1.984653e-02</td>\n",
              "      <td>-5.433583e-02</td>\n",
              "      <td>-2.741871e-01</td>\n",
              "      <td>4.010308e-02</td>\n",
              "      <td>2.235804e-02</td>\n",
              "      <td>-5.142873e-02</td>\n",
              "      <td>-9.291738e-02</td>\n",
              "      <td>-3.275735e-02</td>\n",
              "      <td>1.400326e-01</td>\n",
              "      <td>-1.356806e-02</td>\n",
              "      <td>5.060132e-02</td>\n",
              "      <td>4.807155e-02</td>\n",
              "      <td>6.641332e-02</td>\n",
              "      <td>-6.567575e-02</td>\n",
              "      <td>-3.636312e-03</td>\n",
              "      <td>3.734823e-03</td>\n",
              "      <td>-6.248109e-02</td>\n",
              "      <td>-2.945017e-02</td>\n",
              "      <td>6.781943e-03</td>\n",
              "      <td>-1.119293e-02</td>\n",
              "      <td>4.097606e-02</td>\n",
              "      <td>1.659350e-02</td>\n",
              "      <td>-5.213911e-02</td>\n",
              "      <td>1.342146e-03</td>\n",
              "      <td>1.124383e-02</td>\n",
              "      <td>22.000000</td>\n",
              "      <td>0.000000</td>\n",
              "    </tr>\n",
              "    <tr>\n",
              "      <th>75%</th>\n",
              "      <td>139320.500000</td>\n",
              "      <td>1.315642e+00</td>\n",
              "      <td>8.037239e-01</td>\n",
              "      <td>1.027196e+00</td>\n",
              "      <td>7.433413e-01</td>\n",
              "      <td>6.119264e-01</td>\n",
              "      <td>3.985649e-01</td>\n",
              "      <td>5.704361e-01</td>\n",
              "      <td>3.273459e-01</td>\n",
              "      <td>5.971390e-01</td>\n",
              "      <td>4.539234e-01</td>\n",
              "      <td>7.395934e-01</td>\n",
              "      <td>6.182380e-01</td>\n",
              "      <td>6.625050e-01</td>\n",
              "      <td>4.931498e-01</td>\n",
              "      <td>6.488208e-01</td>\n",
              "      <td>5.232963e-01</td>\n",
              "      <td>3.996750e-01</td>\n",
              "      <td>5.008067e-01</td>\n",
              "      <td>4.589494e-01</td>\n",
              "      <td>1.330408e-01</td>\n",
              "      <td>1.863772e-01</td>\n",
              "      <td>5.285536e-01</td>\n",
              "      <td>1.476421e-01</td>\n",
              "      <td>4.395266e-01</td>\n",
              "      <td>3.507156e-01</td>\n",
              "      <td>2.409522e-01</td>\n",
              "      <td>9.104512e-02</td>\n",
              "      <td>7.827995e-02</td>\n",
              "      <td>77.165000</td>\n",
              "      <td>0.000000</td>\n",
              "    </tr>\n",
              "    <tr>\n",
              "      <th>max</th>\n",
              "      <td>172792.000000</td>\n",
              "      <td>2.454930e+00</td>\n",
              "      <td>2.205773e+01</td>\n",
              "      <td>9.382558e+00</td>\n",
              "      <td>1.687534e+01</td>\n",
              "      <td>3.480167e+01</td>\n",
              "      <td>7.330163e+01</td>\n",
              "      <td>1.205895e+02</td>\n",
              "      <td>2.000721e+01</td>\n",
              "      <td>1.559499e+01</td>\n",
              "      <td>2.374514e+01</td>\n",
              "      <td>1.201891e+01</td>\n",
              "      <td>7.848392e+00</td>\n",
              "      <td>7.126883e+00</td>\n",
              "      <td>1.052677e+01</td>\n",
              "      <td>8.877742e+00</td>\n",
              "      <td>1.731511e+01</td>\n",
              "      <td>9.253526e+00</td>\n",
              "      <td>5.041069e+00</td>\n",
              "      <td>5.591971e+00</td>\n",
              "      <td>3.942090e+01</td>\n",
              "      <td>2.720284e+01</td>\n",
              "      <td>1.050309e+01</td>\n",
              "      <td>2.252841e+01</td>\n",
              "      <td>4.584549e+00</td>\n",
              "      <td>7.519589e+00</td>\n",
              "      <td>3.517346e+00</td>\n",
              "      <td>3.161220e+01</td>\n",
              "      <td>3.384781e+01</td>\n",
              "      <td>25691.160000</td>\n",
              "      <td>1.000000</td>\n",
              "    </tr>\n",
              "  </tbody>\n",
              "</table>\n",
              "</div>"
            ],
            "text/plain": [
              "                Time            V1  ...         Amount          Class\n",
              "count  284807.000000  2.848070e+05  ...  284807.000000  284807.000000\n",
              "mean    94813.859575  3.919560e-15  ...      88.349619       0.001727\n",
              "std     47488.145955  1.958696e+00  ...     250.120109       0.041527\n",
              "min         0.000000 -5.640751e+01  ...       0.000000       0.000000\n",
              "25%     54201.500000 -9.203734e-01  ...       5.600000       0.000000\n",
              "50%     84692.000000  1.810880e-02  ...      22.000000       0.000000\n",
              "75%    139320.500000  1.315642e+00  ...      77.165000       0.000000\n",
              "max    172792.000000  2.454930e+00  ...   25691.160000       1.000000\n",
              "\n",
              "[8 rows x 31 columns]"
            ]
          },
          "metadata": {
            "tags": []
          },
          "execution_count": 6
        }
      ]
    },
    {
      "cell_type": "markdown",
      "metadata": {
        "id": "FfgyfPejEpaZ"
      },
      "source": [
        "Através do resumo estatístico mostrado acima, pode-se perceber que as variáveis transformadas pelo método PCA (*V1,...,V2*) não apresentam valores fora do comum, aparentemente. Isso também é verificado para a variável `Time`.\n",
        "\n",
        "Já para a variável `Amount`, referente ao valor das transações (normais e fraudes), possui uma média de 88.34, apresentando o valor máximo de 25691.16."
      ]
    },
    {
      "cell_type": "markdown",
      "metadata": {
        "id": "jTXG7G-RB7bC"
      },
      "source": [
        "Em geral, o número de transações financeiras fraudulentas correspondem a uma pequena fração do total de transações. No caso do *dataset* utilizado no presente projeto, essa fração corresponde à 0,17% do total, como pode ser observado através do gráfico de barras abaixo.\n",
        "\n",
        "A princípio, esse fato pode ser prejudicial ao desempenho do modelo de *Machine Learning*, pois são classes que apresentam quantidades de dados muito discrepantes. Contudo, isso pode ser resolvido facilmente aplicando método para o balanceamento de dados, como será visto mais adiante."
      ]
    },
    {
      "cell_type": "code",
      "metadata": {
        "id": "_OAV-lAnAddX",
        "colab": {
          "base_uri": "https://localhost:8080/",
          "height": 297
        },
        "outputId": "0461bb2d-1ab9-465c-c5ac-d9e8fe7e5558"
      },
      "source": [
        "fig, ax = plt.subplots(figsize = (6,4))\n",
        "ax = df.Class.value_counts().plot(kind = 'bar', color = 'blue')\n",
        "ax.set_title('Distribuição das Classes', fontsize = 15, loc ='center', weight = 'bold')\n",
        "ax.set_xticklabels(['Normal' , 'Fraude'], rotation = 0)\n",
        "ax.patch.set_facecolor('white')\n",
        "\n",
        "total = []\n",
        "\n",
        "for i in ax.patches:\n",
        "    total.append(i.get_height())\n",
        "\n",
        "soma = sum(total)\n",
        "\n",
        "for i in ax.patches:\n",
        "    ax.text(i.get_x() + .12, i.get_height() - 50,\n",
        "            str(round((i.get_height()/soma)*100, 2)) + '%',\n",
        "            fontsize = 12, color = 'black', weight = 'bold')\n",
        "    \n",
        "plt.tight_layout()"
      ],
      "execution_count": 7,
      "outputs": [
        {
          "output_type": "display_data",
          "data": {
            "image/png": "[encoded data removed]",
            "text/plain": [
              "<Figure size 432x288 with 1 Axes>"
            ]
          },
          "metadata": {
            "tags": [],
            "needs_background": "light"
          }
        }
      ]
    },
    {
      "cell_type": "code",
      "metadata": {
        "colab": {
          "base_uri": "https://localhost:8080/"
        },
        "id": "Ag78qZJtC2un",
        "outputId": "4991ece2-38b0-4858-ef17-97e46bb1536f"
      },
      "source": [
        "# QUANTIDADE DE DADOS EM CADA CLASSE\n",
        "\n",
        "print('Normais: ', df[df.Class == 0].shape[0])\n",
        "print('\\nFraudes: ', df[df.Class == 1].shape[0])"
      ],
      "execution_count": 8,
      "outputs": [
        {
          "output_type": "stream",
          "text": [
            "Normais:  284315\n",
            "\n",
            "Fraudes:  492\n"
          ],
          "name": "stdout"
        }
      ]
    },
    {
      "cell_type": "markdown",
      "metadata": {
        "id": "FPlh97xASwi3"
      },
      "source": [
        "O próximo passo da análise exploratória foi verificar se existem *outliers* nos dados, levando em consideração o parão dos dados referentes às transações financeiras em relação à variável `Amount`."
      ]
    },
    {
      "cell_type": "code",
      "metadata": {
        "colab": {
          "base_uri": "https://localhost:8080/",
          "height": 640
        },
        "id": "MVf2SJBoN7oi",
        "outputId": "f8bee795-757b-4617-aaec-201570e1b9d9"
      },
      "source": [
        "fig, ax = plt.subplots(figsize = (5,8), sharex = True)\n",
        "\n",
        "sns.boxplot(df.Class, df.Amount, showmeans = True, ax = ax)\n",
        "plt.ylim((-20, 400))\n",
        "plt.xticks([0, 1], ['Normal', 'Fraude'])\n",
        "\n",
        "plt.tight_layout()"
      ],
      "execution_count": 9,
      "outputs": [
        {
          "output_type": "stream",
          "text": [
            "/usr/local/lib/python3.7/dist-packages/seaborn/_decorators.py:43: FutureWarning: Pass the following variables as keyword args: x, y. From version 0.12, the only valid positional argument will be `data`, and passing other arguments without an explicit keyword will result in an error or misinterpretation.\n",
            "  FutureWarning\n"
          ],
          "name": "stderr"
        },
        {
          "output_type": "display_data",
          "data": {
            "image/png": "[encoded data removed]",
            "text/plain": [
              "<Figure size 360x576 with 1 Axes>"
            ]
          },
          "metadata": {
            "tags": [],
            "needs_background": "light"
          }
        }
      ]
    },
    {
      "cell_type": "markdown",
      "metadata": {
        "id": "outVnoUNXSL8"
      },
      "source": [
        "Como pode-se perceber, as distribuições são diferentes para cada classe observada, o que pode ser um aspecto positivo para o treinamento e teste do modelo de *Machine Learning*.\n",
        "\n",
        "De fato, existem *outliers* na variável `Amount`, o que pode ser tratado com a padronização dos dados."
      ]
    },
    {
      "cell_type": "markdown",
      "metadata": {
        "id": "zp3aVFnR1tSb"
      },
      "source": [
        "## **Preparação dos Dados**\n",
        "\n",
        "Após realizar a análise exploratória e extrair as principais informações do conjunto de dados, a próxima etapa é fazer a preparação e o tratamento das variáveis que irão alimentar o modelo de *Machine Learning*. O modelo preditivo a ser implementado será de Aprendizado Supervisionado.\n",
        "\n",
        "\n",
        "Nesta etapa, deve-se fazer os ajustes finais dos dados. Esses ajustes envolvem a padronização das *features*, criação de novas variáveis, limpeza dos dados, separação do dataset, etc.\n",
        "\n",
        "Para alimentar o modelo de Machine Learning, é necessário separar a variável alvo (dependente) das demais variáveis (independentes).\n",
        "\n",
        "Por padrão, é comum fazer a divisão do conjunto de dados em variáveis nomeadas como X e y. Este projeto seguiu a mesma ideia."
      ]
    },
    {
      "cell_type": "markdown",
      "metadata": {
        "id": "8-uL_Whf5KKK"
      },
      "source": [
        "### **Padronização dos Dados**"
      ]
    },
    {
      "cell_type": "markdown",
      "metadata": {
        "id": "T_bGZVPH2uj8"
      },
      "source": [
        "**A variável `Amount` receberá uma atenção especial nesta etapa, uma vez que ela apresenta *outliers*. Assim, é fundamental realizar a padronização dessa variável. O mesmo processo será realizado para a coluna `Time`, por ela possuir valores numéricos diferentes dos padrões das demais variáveis. Para isso, pode-se utilizar o método *StandardScaler*.**"
      ]
    },
    {
      "cell_type": "code",
      "metadata": {
        "id": "3j3oxjtsqkoW"
      },
      "source": [
        "# IMPORTAÇÃO DAS FERRAMENTAS PARA O PRÉ-PROCESSAMENTO DOS DADOS\n",
        "\n",
        "from sklearn.preprocessing import StandardScaler"
      ],
      "execution_count": 10,
      "outputs": []
    },
    {
      "cell_type": "code",
      "metadata": {
        "id": "4GWIwyn93yho"
      },
      "source": [
        "# CRIANDO UMA CÓPIA DO DATASET ORIGINAL\n",
        "\n",
        "df_pdz = df.copy()"
      ],
      "execution_count": 11,
      "outputs": []
    },
    {
      "cell_type": "code",
      "metadata": {
        "id": "3KdWZNMI3uWx"
      },
      "source": [
        "# PADRONIZAÇÃO DAS VARIÁVEIS AMOUNT E TIME\n",
        "\n",
        "pdz = StandardScaler()\n",
        "\n",
        "df_pdz['amount_pdz'] = pdz.fit_transform(df_pdz['Amount'].values.reshape(-1, 1))\n",
        "df_pdz['time_pdz'] = pdz.fit_transform(df_pdz['Time'].values.reshape(-1, 1))\n",
        "\n",
        "# ELIMINANDO AS VARIÁVEIS ANTIGAS\n",
        "\n",
        "df_pdz.drop(['Time', 'Amount'], axis=1, inplace=True)"
      ],
      "execution_count": 12,
      "outputs": []
    },
    {
      "cell_type": "code",
      "metadata": {
        "colab": {
          "base_uri": "https://localhost:8080/",
          "height": 223
        },
        "id": "4NztzJTY4JBP",
        "outputId": "2ae9938f-a297-4108-867c-16192a81d24f"
      },
      "source": [
        "# VISUALIZANDO O RESULTADO\n",
        "\n",
        "df_pdz.head()"
      ],
      "execution_count": 13,
      "outputs": [
        {
          "output_type": "execute_result",
          "data": {
            "text/html": [
              "<div>\n",
              "<style scoped>\n",
              "    .dataframe tbody tr th:only-of-type {\n",
              "        vertical-align: middle;\n",
              "    }\n",
              "\n",
              "    .dataframe tbody tr th {\n",
              "        vertical-align: top;\n",
              "    }\n",
              "\n",
              "    .dataframe thead th {\n",
              "        text-align: right;\n",
              "    }\n",
              "</style>\n",
              "<table border=\"1\" class=\"dataframe\">\n",
              "  <thead>\n",
              "    <tr style=\"text-align: right;\">\n",
              "      <th></th>\n",
              "      <th>V1</th>\n",
              "      <th>V2</th>\n",
              "      <th>V3</th>\n",
              "      <th>V4</th>\n",
              "      <th>V5</th>\n",
              "      <th>V6</th>\n",
              "      <th>V7</th>\n",
              "      <th>V8</th>\n",
              "      <th>V9</th>\n",
              "      <th>V10</th>\n",
              "      <th>V11</th>\n",
              "      <th>V12</th>\n",
              "      <th>V13</th>\n",
              "      <th>V14</th>\n",
              "      <th>V15</th>\n",
              "      <th>V16</th>\n",
              "      <th>V17</th>\n",
              "      <th>V18</th>\n",
              "      <th>V19</th>\n",
              "      <th>V20</th>\n",
              "      <th>V21</th>\n",
              "      <th>V22</th>\n",
              "      <th>V23</th>\n",
              "      <th>V24</th>\n",
              "      <th>V25</th>\n",
              "      <th>V26</th>\n",
              "      <th>V27</th>\n",
              "      <th>V28</th>\n",
              "      <th>Class</th>\n",
              "      <th>amount_pdz</th>\n",
              "      <th>time_pdz</th>\n",
              "    </tr>\n",
              "  </thead>\n",
              "  <tbody>\n",
              "    <tr>\n",
              "      <th>0</th>\n",
              "      <td>-1.359807</td>\n",
              "      <td>-0.072781</td>\n",
              "      <td>2.536347</td>\n",
              "      <td>1.378155</td>\n",
              "      <td>-0.338321</td>\n",
              "      <td>0.462388</td>\n",
              "      <td>0.239599</td>\n",
              "      <td>0.098698</td>\n",
              "      <td>0.363787</td>\n",
              "      <td>0.090794</td>\n",
              "      <td>-0.551600</td>\n",
              "      <td>-0.617801</td>\n",
              "      <td>-0.991390</td>\n",
              "      <td>-0.311169</td>\n",
              "      <td>1.468177</td>\n",
              "      <td>-0.470401</td>\n",
              "      <td>0.207971</td>\n",
              "      <td>0.025791</td>\n",
              "      <td>0.403993</td>\n",
              "      <td>0.251412</td>\n",
              "      <td>-0.018307</td>\n",
              "      <td>0.277838</td>\n",
              "      <td>-0.110474</td>\n",
              "      <td>0.066928</td>\n",
              "      <td>0.128539</td>\n",
              "      <td>-0.189115</td>\n",
              "      <td>0.133558</td>\n",
              "      <td>-0.021053</td>\n",
              "      <td>0</td>\n",
              "      <td>0.244964</td>\n",
              "      <td>-1.996583</td>\n",
              "    </tr>\n",
              "    <tr>\n",
              "      <th>1</th>\n",
              "      <td>1.191857</td>\n",
              "      <td>0.266151</td>\n",
              "      <td>0.166480</td>\n",
              "      <td>0.448154</td>\n",
              "      <td>0.060018</td>\n",
              "      <td>-0.082361</td>\n",
              "      <td>-0.078803</td>\n",
              "      <td>0.085102</td>\n",
              "      <td>-0.255425</td>\n",
              "      <td>-0.166974</td>\n",
              "      <td>1.612727</td>\n",
              "      <td>1.065235</td>\n",
              "      <td>0.489095</td>\n",
              "      <td>-0.143772</td>\n",
              "      <td>0.635558</td>\n",
              "      <td>0.463917</td>\n",
              "      <td>-0.114805</td>\n",
              "      <td>-0.183361</td>\n",
              "      <td>-0.145783</td>\n",
              "      <td>-0.069083</td>\n",
              "      <td>-0.225775</td>\n",
              "      <td>-0.638672</td>\n",
              "      <td>0.101288</td>\n",
              "      <td>-0.339846</td>\n",
              "      <td>0.167170</td>\n",
              "      <td>0.125895</td>\n",
              "      <td>-0.008983</td>\n",
              "      <td>0.014724</td>\n",
              "      <td>0</td>\n",
              "      <td>-0.342475</td>\n",
              "      <td>-1.996583</td>\n",
              "    </tr>\n",
              "    <tr>\n",
              "      <th>2</th>\n",
              "      <td>-1.358354</td>\n",
              "      <td>-1.340163</td>\n",
              "      <td>1.773209</td>\n",
              "      <td>0.379780</td>\n",
              "      <td>-0.503198</td>\n",
              "      <td>1.800499</td>\n",
              "      <td>0.791461</td>\n",
              "      <td>0.247676</td>\n",
              "      <td>-1.514654</td>\n",
              "      <td>0.207643</td>\n",
              "      <td>0.624501</td>\n",
              "      <td>0.066084</td>\n",
              "      <td>0.717293</td>\n",
              "      <td>-0.165946</td>\n",
              "      <td>2.345865</td>\n",
              "      <td>-2.890083</td>\n",
              "      <td>1.109969</td>\n",
              "      <td>-0.121359</td>\n",
              "      <td>-2.261857</td>\n",
              "      <td>0.524980</td>\n",
              "      <td>0.247998</td>\n",
              "      <td>0.771679</td>\n",
              "      <td>0.909412</td>\n",
              "      <td>-0.689281</td>\n",
              "      <td>-0.327642</td>\n",
              "      <td>-0.139097</td>\n",
              "      <td>-0.055353</td>\n",
              "      <td>-0.059752</td>\n",
              "      <td>0</td>\n",
              "      <td>1.160686</td>\n",
              "      <td>-1.996562</td>\n",
              "    </tr>\n",
              "    <tr>\n",
              "      <th>3</th>\n",
              "      <td>-0.966272</td>\n",
              "      <td>-0.185226</td>\n",
              "      <td>1.792993</td>\n",
              "      <td>-0.863291</td>\n",
              "      <td>-0.010309</td>\n",
              "      <td>1.247203</td>\n",
              "      <td>0.237609</td>\n",
              "      <td>0.377436</td>\n",
              "      <td>-1.387024</td>\n",
              "      <td>-0.054952</td>\n",
              "      <td>-0.226487</td>\n",
              "      <td>0.178228</td>\n",
              "      <td>0.507757</td>\n",
              "      <td>-0.287924</td>\n",
              "      <td>-0.631418</td>\n",
              "      <td>-1.059647</td>\n",
              "      <td>-0.684093</td>\n",
              "      <td>1.965775</td>\n",
              "      <td>-1.232622</td>\n",
              "      <td>-0.208038</td>\n",
              "      <td>-0.108300</td>\n",
              "      <td>0.005274</td>\n",
              "      <td>-0.190321</td>\n",
              "      <td>-1.175575</td>\n",
              "      <td>0.647376</td>\n",
              "      <td>-0.221929</td>\n",
              "      <td>0.062723</td>\n",
              "      <td>0.061458</td>\n",
              "      <td>0</td>\n",
              "      <td>0.140534</td>\n",
              "      <td>-1.996562</td>\n",
              "    </tr>\n",
              "    <tr>\n",
              "      <th>4</th>\n",
              "      <td>-1.158233</td>\n",
              "      <td>0.877737</td>\n",
              "      <td>1.548718</td>\n",
              "      <td>0.403034</td>\n",
              "      <td>-0.407193</td>\n",
              "      <td>0.095921</td>\n",
              "      <td>0.592941</td>\n",
              "      <td>-0.270533</td>\n",
              "      <td>0.817739</td>\n",
              "      <td>0.753074</td>\n",
              "      <td>-0.822843</td>\n",
              "      <td>0.538196</td>\n",
              "      <td>1.345852</td>\n",
              "      <td>-1.119670</td>\n",
              "      <td>0.175121</td>\n",
              "      <td>-0.451449</td>\n",
              "      <td>-0.237033</td>\n",
              "      <td>-0.038195</td>\n",
              "      <td>0.803487</td>\n",
              "      <td>0.408542</td>\n",
              "      <td>-0.009431</td>\n",
              "      <td>0.798278</td>\n",
              "      <td>-0.137458</td>\n",
              "      <td>0.141267</td>\n",
              "      <td>-0.206010</td>\n",
              "      <td>0.502292</td>\n",
              "      <td>0.219422</td>\n",
              "      <td>0.215153</td>\n",
              "      <td>0</td>\n",
              "      <td>-0.073403</td>\n",
              "      <td>-1.996541</td>\n",
              "    </tr>\n",
              "  </tbody>\n",
              "</table>\n",
              "</div>"
            ],
            "text/plain": [
              "         V1        V2        V3  ...  Class  amount_pdz  time_pdz\n",
              "0 -1.359807 -0.072781  2.536347  ...      0    0.244964 -1.996583\n",
              "1  1.191857  0.266151  0.166480  ...      0   -0.342475 -1.996583\n",
              "2 -1.358354 -1.340163  1.773209  ...      0    1.160686 -1.996562\n",
              "3 -0.966272 -0.185226  1.792993  ...      0    0.140534 -1.996562\n",
              "4 -1.158233  0.877737  1.548718  ...      0   -0.073403 -1.996541\n",
              "\n",
              "[5 rows x 31 columns]"
            ]
          },
          "metadata": {
            "tags": []
          },
          "execution_count": 13
        }
      ]
    },
    {
      "cell_type": "markdown",
      "metadata": {
        "id": "2Ird6I1z5oYT"
      },
      "source": [
        "### **Divisão dos Dados em Treino e Teste**"
      ]
    },
    {
      "cell_type": "code",
      "metadata": {
        "id": "Ali3MvDF5Bjv"
      },
      "source": [
        "# SEPARAÇÃO DAS VARIÁVEIS EM DEPENDENTE E INDEPENDENTE\n",
        "\n",
        "X = df_pdz.drop(['Class'], axis = 1)\n",
        "y = df_pdz.Class\n",
        "\n",
        "# DIVISÃO DOS DADOS EM TREINO E TESTE\n",
        "\n",
        "from sklearn.model_selection import train_test_split\n",
        "\n",
        "X_train, X_test, y_train, y_test = train_test_split(X, y, test_size = 0.28, stratify = y, shuffle=True)"
      ],
      "execution_count": 14,
      "outputs": []
    },
    {
      "cell_type": "markdown",
      "metadata": {
        "id": "_C1AuoVH6rLN"
      },
      "source": [
        "Neste ponto, após a divisão dos dados, pode-se implementar o modelo com os dados desbalanceados. A ideia é comparar o desempenho do método frente às duas situações: dados desbalanceados e balanceados."
      ]
    },
    {
      "cell_type": "markdown",
      "metadata": {
        "id": "MEHwRoat8zHn"
      },
      "source": [
        "**MODELO COM OS DADOS DESBALANCEADOS**"
      ]
    },
    {
      "cell_type": "code",
      "metadata": {
        "colab": {
          "base_uri": "https://localhost:8080/",
          "height": 352
        },
        "id": "AOibrF6m880f",
        "outputId": "707ac814-74f1-49d8-8f14-c8d510722500"
      },
      "source": [
        "# VISUALIZANDO AS CLASSES DA VARIÁVEL ALVO\n",
        "\n",
        "sns.countplot(y)"
      ],
      "execution_count": 15,
      "outputs": [
        {
          "output_type": "stream",
          "text": [
            "/usr/local/lib/python3.7/dist-packages/seaborn/_decorators.py:43: FutureWarning: Pass the following variable as a keyword arg: x. From version 0.12, the only valid positional argument will be `data`, and passing other arguments without an explicit keyword will result in an error or misinterpretation.\n",
            "  FutureWarning\n"
          ],
          "name": "stderr"
        },
        {
          "output_type": "execute_result",
          "data": {
            "text/plain": [
              "<matplotlib.axes._subplots.AxesSubplot at 0x7f47d7a8ed90>"
            ]
          },
          "metadata": {
            "tags": []
          },
          "execution_count": 15
        },
        {
          "output_type": "display_data",
          "data": {
            "image/png": "[encoded data removed]",
            "text/plain": [
              "<Figure size 432x288 with 1 Axes>"
            ]
          },
          "metadata": {
            "tags": [],
            "needs_background": "light"
          }
        }
      ]
    },
    {
      "cell_type": "code",
      "metadata": {
        "id": "kheQiRhk6qvR"
      },
      "source": [
        "# MODELO RANDOM FOREST PARA CLASSIFICAÇÃO\n",
        "\n",
        "from sklearn.ensemble import RandomForestClassifier"
      ],
      "execution_count": 16,
      "outputs": []
    },
    {
      "cell_type": "code",
      "metadata": {
        "id": "5E9uOj978bn5"
      },
      "source": [
        "# INSTANCIANDO O MODELO\n",
        "\n",
        "rfc_model = RandomForestClassifier(criterion = 'entropy', random_state = 42, oob_score = True)"
      ],
      "execution_count": 17,
      "outputs": []
    },
    {
      "cell_type": "code",
      "metadata": {
        "id": "EVbf45KzDtZY"
      },
      "source": [
        "# IMPORTANDO MÉTRICAS DE AVALIAÇÃO\n",
        "\n",
        "from sklearn.metrics import classification_report\n",
        "from sklearn.metrics import accuracy_score\n",
        "from sklearn.metrics import confusion_matrix"
      ],
      "execution_count": 18,
      "outputs": []
    },
    {
      "cell_type": "markdown",
      "metadata": {
        "id": "1t27i6SMAOIR"
      },
      "source": [
        "É muito provável que ao utilizar os dados desbalanceados, a acurácia obtida seja quase 100%. É importante enfatizar que isso não significa que o modelo está tendo um bom desempenho necessariamente, pois além da acurácia não ser a forma definitiva de avaliar os modelos, pode estar ocorrendo alguns problemas. Na verdade, é provável que essa acurácia seja resultado de o modelo ter sido enviesado, pois o modelo terá se adaptado a identificar melhor apenas os dados da classe majoritária do conjunto de dados.\n",
        "\n",
        "Para tentar contornar o problema, pode-se fazer o balanceamento dos dados e fazer o treino e teste do modelo novamente."
      ]
    },
    {
      "cell_type": "markdown",
      "metadata": {
        "id": "Yxwmn39xBS9j"
      },
      "source": [
        "### **Balanceamento dos Dados**\n",
        "\n",
        "Quando se trata de balanceamento de dados, pode-se aplicar duas abordagens: *Undersampling* e *Oversampling*.\n",
        "\n",
        "No primeiro caso, a técnica consiste em reduzir os exemplos da classe majoritária de forma aleatória. Já o segundo, faz réplicas dos dados da classe minoritária.\n",
        "\n",
        "No presente projeto, aplicacou-se a técnica de Oversampling, usando algoritmo Smote para esta finalidade."
      ]
    },
    {
      "cell_type": "code",
      "metadata": {
        "colab": {
          "base_uri": "https://localhost:8080/"
        },
        "id": "U1ZpGEsi-Tpe",
        "outputId": "21621de8-bf3b-40b1-f013-7226b9e7f9f6"
      },
      "source": [
        "from imblearn.over_sampling import SMOTE\n",
        "\n",
        "# INSTANCIANDO O ALGORITMO\n",
        "smt = SMOTE()\n",
        "\n",
        "# APLICANDO O OVERSAMPLING\n",
        "X_train_os, y_train_os = smt.fit_sample(X_train, y_train)"
      ],
      "execution_count": 19,
      "outputs": [
        {
          "output_type": "stream",
          "text": [
            "/usr/local/lib/python3.7/dist-packages/sklearn/externals/six.py:31: FutureWarning: The module is deprecated in version 0.21 and will be removed in version 0.23 since we've dropped support for Python 2.7. Please rely on the official version of six (https://pypi.org/project/six/).\n",
            "  \"(https://pypi.org/project/six/).\", FutureWarning)\n",
            "/usr/local/lib/python3.7/dist-packages/sklearn/utils/deprecation.py:144: FutureWarning: The sklearn.neighbors.base module is  deprecated in version 0.22 and will be removed in version 0.24. The corresponding classes / functions should instead be imported from sklearn.neighbors. Anything that cannot be imported from sklearn.neighbors is now part of the private API.\n",
            "  warnings.warn(message, FutureWarning)\n",
            "/usr/local/lib/python3.7/dist-packages/sklearn/utils/deprecation.py:87: FutureWarning: Function safe_indexing is deprecated; safe_indexing is deprecated in version 0.22 and will be removed in version 0.24.\n",
            "  warnings.warn(msg, category=FutureWarning)\n"
          ],
          "name": "stderr"
        }
      ]
    },
    {
      "cell_type": "markdown",
      "metadata": {
        "id": "q1ih0U1jD-xO"
      },
      "source": [
        "**Vale ressaltar a importância de aplicar o balanceamento apenas para os dados de treino. Pois, os dados de teste devem permanecer inalterados.**"
      ]
    },
    {
      "cell_type": "code",
      "metadata": {
        "colab": {
          "base_uri": "https://localhost:8080/"
        },
        "id": "YMmJW3u7KTdf",
        "outputId": "c95ad9c5-5857-40ac-a85a-6685075b5636"
      },
      "source": [
        "print(pd.Series(y_train_os).value_counts())"
      ],
      "execution_count": 21,
      "outputs": [
        {
          "output_type": "stream",
          "text": [
            "1    204707\n",
            "0    204707\n",
            "dtype: int64\n"
          ],
          "name": "stdout"
        }
      ]
    },
    {
      "cell_type": "code",
      "metadata": {
        "colab": {
          "base_uri": "https://localhost:8080/",
          "height": 338
        },
        "id": "t9Xs22xcFo1z",
        "outputId": "59652dea-7f65-473e-b8dc-bd253502176e"
      },
      "source": [
        "# VISUALIZANDO AS CLASSES DA VARIÁVEL ALVO BALANCEADA\n",
        "\n",
        "sns.countplot(y_train_os)"
      ],
      "execution_count": 22,
      "outputs": [
        {
          "output_type": "stream",
          "text": [
            "/usr/local/lib/python3.7/dist-packages/seaborn/_decorators.py:43: FutureWarning: Pass the following variable as a keyword arg: x. From version 0.12, the only valid positional argument will be `data`, and passing other arguments without an explicit keyword will result in an error or misinterpretation.\n",
            "  FutureWarning\n"
          ],
          "name": "stderr"
        },
        {
          "output_type": "execute_result",
          "data": {
            "text/plain": [
              "<matplotlib.axes._subplots.AxesSubplot at 0x7f47c9575490>"
            ]
          },
          "metadata": {
            "tags": []
          },
          "execution_count": 22
        },
        {
          "output_type": "display_data",
          "data": {
            "image/png": "[encoded data removed]",
            "text/plain": [
              "<Figure size 432x288 with 1 Axes>"
            ]
          },
          "metadata": {
            "tags": [],
            "needs_background": "light"
          }
        }
      ]
    },
    {
      "cell_type": "markdown",
      "metadata": {
        "id": "Y7157KIOF4Gx"
      },
      "source": [
        "Como pode-se observar acima, de fato, o método aplicado foi capaz de balancear as classes da variável independente. Com isso, o modelo de *Machine Learning* pode ser treinado e testado novamente."
      ]
    },
    {
      "cell_type": "markdown",
      "metadata": {
        "id": "TRceKtPrGbdm"
      },
      "source": [
        "**MODELO COM OS DADOS BALANCEADOS**\n",
        "\n",
        "Como as bibliotecas já foram importadas anteriormente, pode-se aplicar o modelo de forma mais direta."
      ]
    },
    {
      "cell_type": "code",
      "metadata": {
        "colab": {
          "base_uri": "https://localhost:8080/"
        },
        "id": "874-CF85F3Kt",
        "outputId": "028e9273-c546-40df-dfc4-e08e87bc48b1"
      },
      "source": [
        "# TREINANDO O MODELO\n",
        "\n",
        "rfc_model.fit(X_train_os, y_train_os)"
      ],
      "execution_count": 23,
      "outputs": [
        {
          "output_type": "execute_result",
          "data": {
            "text/plain": [
              "RandomForestClassifier(bootstrap=True, ccp_alpha=0.0, class_weight=None,\n",
              "                       criterion='entropy', max_depth=None, max_features='auto',\n",
              "                       max_leaf_nodes=None, max_samples=None,\n",
              "                       min_impurity_decrease=0.0, min_impurity_split=None,\n",
              "                       min_samples_leaf=1, min_samples_split=2,\n",
              "                       min_weight_fraction_leaf=0.0, n_estimators=100,\n",
              "                       n_jobs=None, oob_score=True, random_state=42, verbose=0,\n",
              "                       warm_start=False)"
            ]
          },
          "metadata": {
            "tags": []
          },
          "execution_count": 23
        }
      ]
    },
    {
      "cell_type": "code",
      "metadata": {
        "id": "poJueiVtH-YB"
      },
      "source": [
        "# PREVISÃO\n",
        "\n",
        "y_pred = rfc_model.predict(X_test)"
      ],
      "execution_count": 24,
      "outputs": []
    },
    {
      "cell_type": "code",
      "metadata": {
        "colab": {
          "base_uri": "https://localhost:8080/"
        },
        "id": "BdOqUwsyGv1q",
        "outputId": "90dd4352-dc72-4c5a-b7f8-45816754c0ba"
      },
      "source": [
        "print('Random Forest')\n",
        "\n",
        "# ACURÁCIA\n",
        "\n",
        "print('\\n[Acurácia]:', accuracy_score(y_test, y_pred))\n",
        "\n",
        "# OOB DO RANDOM FOREST\n",
        "\n",
        "print('\\n[Out-of-Bag]:', rfc_model.oob_score_)"
      ],
      "execution_count": 25,
      "outputs": [
        {
          "output_type": "stream",
          "text": [
            "Random Forest\n",
            "\n",
            "[Acurácia]: 0.9995234870714519\n",
            "\n",
            "[Out-of-Bag]: 0.999916954476398\n"
          ],
          "name": "stdout"
        }
      ]
    },
    {
      "cell_type": "code",
      "metadata": {
        "colab": {
          "base_uri": "https://localhost:8080/"
        },
        "id": "1GZ3VzI1H5xg",
        "outputId": "bee3d43d-17e5-4cc8-a1bf-eb61ba747769"
      },
      "source": [
        "print(classification_report(y_test, y_pred))"
      ],
      "execution_count": 26,
      "outputs": [
        {
          "output_type": "stream",
          "text": [
            "              precision    recall  f1-score   support\n",
            "\n",
            "           0       1.00      1.00      1.00     79608\n",
            "           1       0.87      0.86      0.86       138\n",
            "\n",
            "    accuracy                           1.00     79746\n",
            "   macro avg       0.93      0.93      0.93     79746\n",
            "weighted avg       1.00      1.00      1.00     79746\n",
            "\n"
          ],
          "name": "stdout"
        }
      ]
    },
    {
      "cell_type": "code",
      "metadata": {
        "colab": {
          "base_uri": "https://localhost:8080/",
          "height": 110
        },
        "id": "Rxh7_OxqI4pB",
        "outputId": "c9094444-b49f-45c5-f3b7-eeda9cae2a29"
      },
      "source": [
        "# VISUALIZANDO A MATRIZ DE CONFUSÃO\n",
        "\n",
        "pd.DataFrame(confusion_matrix(y_test, y_pred),\n",
        "             index=['neg', 'pos'], columns=['pred_neg', 'pred_pos'])"
      ],
      "execution_count": 27,
      "outputs": [
        {
          "output_type": "execute_result",
          "data": {
            "text/html": [
              "<div>\n",
              "<style scoped>\n",
              "    .dataframe tbody tr th:only-of-type {\n",
              "        vertical-align: middle;\n",
              "    }\n",
              "\n",
              "    .dataframe tbody tr th {\n",
              "        vertical-align: top;\n",
              "    }\n",
              "\n",
              "    .dataframe thead th {\n",
              "        text-align: right;\n",
              "    }\n",
              "</style>\n",
              "<table border=\"1\" class=\"dataframe\">\n",
              "  <thead>\n",
              "    <tr style=\"text-align: right;\">\n",
              "      <th></th>\n",
              "      <th>pred_neg</th>\n",
              "      <th>pred_pos</th>\n",
              "    </tr>\n",
              "  </thead>\n",
              "  <tbody>\n",
              "    <tr>\n",
              "      <th>neg</th>\n",
              "      <td>79590</td>\n",
              "      <td>18</td>\n",
              "    </tr>\n",
              "    <tr>\n",
              "      <th>pos</th>\n",
              "      <td>20</td>\n",
              "      <td>118</td>\n",
              "    </tr>\n",
              "  </tbody>\n",
              "</table>\n",
              "</div>"
            ],
            "text/plain": [
              "     pred_neg  pred_pos\n",
              "neg     79590        18\n",
              "pos        20       118"
            ]
          },
          "metadata": {
            "tags": []
          },
          "execution_count": 27
        }
      ]
    },
    {
      "cell_type": "markdown",
      "metadata": {
        "id": "Bu8LJslrLDpq"
      },
      "source": [
        "## **Conclusão**\n",
        "\n",
        "Como pode-se observar nos resultados, apesar de a acurácia do modelo ter sido próxima de 100%, outros parâmetros mais importantes e decisivos para a avaliação do desempenho do modelo não foram tão bons. \n",
        "\n",
        "Por exemplo, os resultados mostraram para a classe 1, que representa os casos em que as transações financeiras são fraudulentas, o modelo não apresentou um desempenho tão bom quando comparado à situações onde as transações eram normais. As métricas analisadas foram:\n",
        "\n",
        "* **Precision** — Precisão de previsões positivas\n",
        "* **Recall** — Fração de positivos que foram identificados corretamente.\n",
        "* **f1-score** — representa a média harmônica entre precision e recall, sendo 0 o pior valor e 1 o melhor.\n",
        "\n",
        "No geral, o modelo foi capaz de identificar de maneira satisfatória as transações que, de fato, eram fraudulentas, um aspecto muito importante para este tipo de problema, afinal, o objetivo é justamente conseguir identificar as fraudes.\n",
        "\n",
        "Como discutido anteriormente, o modelo realmente pode ter sido enviesado pela classe majoritária com os dados desbalanceados e, foi possível contornar isso usando técnicas apropriadas.\n",
        "\n",
        "O modelo final alcançou uma **acurácia de 99,95%**, combinado aos bons resultados das demais métricas. Em particular, para o Random Forest, o parâmetro [***Out-of-Bag***](https://towardsdatascience.com/what-is-out-of-bag-oob-score-in-random-forest-a7fa23d710) é bastante relevante, e o modelo também apresentou um bom resultado para essa métrica, atingindo **99,99%**.\n",
        "\n",
        "No geral, o modelo alcançou um ótimo desempenho, mas é importante ressaltar que existem outras técnicas para procurar melhorar esse resultado, seja por meio da implementação de outros modelo de classificação ou o ajuste de hiperparâmetros do modelo atual, por exemplo. "
      ]
    }
  ]
}