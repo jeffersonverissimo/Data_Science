{
  "nbformat": 4,
  "nbformat_minor": 0,
  "metadata": {
    "colab": {
      "name": "Naufrágio do Titanic: uma análise usando Data Science.ipynb",
      "provenance": [],
      "authorship_tag": "ABX9TyPbmL/nOOzJunMO+tGwfCHA"
    },
    "kernelspec": {
      "name": "python3",
      "display_name": "Python 3"
    }
  },
  "cells": [
    {
      "cell_type": "markdown",
      "metadata": {
        "id": "I8iWJRktaLfk",
        "colab_type": "text"
      },
      "source": [
        "![texto alternativo](https://m.media-amazon.com/images/M/MV5BNzdkMzQ5OTctZmM5ZS00N2QwLWEzNTEtNzZjZDlhMTEwYWZkXkEyXkFqcGdeQXVyMjMzMDI4MjQ@._V1_SX1777_CR0,0,1777,999_AL_.jpg)"
      ]
    },
    {
      "cell_type": "markdown",
      "metadata": {
        "id": "OwfoEL4iaSlh",
        "colab_type": "text"
      },
      "source": [
        "---\n",
        "# **NAUFRÁGIO DO TITANIC: ANÁLISE USANDO DATA SCIENCE**\n",
        "\n",
        "---\n",
        "---\n",
        "\n",
        "Última atualização em 03 de agosto de 2020\n",
        "\n",
        "---\n",
        "\n",
        "O desafio de Data Science do Titanic é um dos mais conhecidos mundialmente entre os cientistas de dados, em termos comparativos, é o \"Hello, World!\" para quem está começando na área de aprendizado de máquina.\n",
        "\n",
        "Essa competição de introdução ao maravilhoso universo da Ciência de Dados é promovido pelo site do Kaggle, plataforma gerenciada pela Google, que disponibiliza diversos desafios e conjunto de dados.\n",
        "\n",
        "**Afinal, quem nunca ouviu falar da tragédia do Titanic?**\n",
        "\n",
        "Com certeza, a maioria das pessoas conhecem a história do naufrágio desse navio conhecido tecnicamente como RMS Titanic. Ele foi operado pela empresa White Star Line e seu projeto durou cerca de 4 anos, tendo início em setembro de 1908 e comissionamento em abril de 1912. A embarcação foi construída para ser a melhor de sua época, em questões de luxo, segurança e engenharia, alcançando o lendário status de \"inafundável\".\n",
        "\n",
        "Sua viagem inaugural, iniciada em dia 10 de abril de 1912, tinha rota traçada de Southampton para Nova Iorque, levando cerca de 2.200 passageiros. Contudo, apesar de todos os avanços tecnológicos incorporados ao projeto do Titanic, às 23h40min do dia 15 de abril de 1912, após colidir com um iceberg, o navio naufragou nas águas do Oceano Atlântico, matando mais de 1.500 pessoas.\n",
        "Diversos fatores contribuíram para a tragédia do Titanic, dentre elas, o número insuficiente de bote salva-vidas para as pessoas a bordo e diversas falhas técnicas por parte da tripulação. Atualmente, o navio está submerso a 3.800 metros de profundidade no Oceano Atlântico, a cerca 600 km da costa de Newfoundland, no Canadá.\n",
        "\n",
        "**A partir do cenário da tragédia do Titanic podemos levantar alguns questionamentos:**\n",
        "\n",
        "* Será que alguns grupos de passageiros tiveram mais \"sorte\" que outros?\n",
        "\n",
        "* Mulheres e crianças tiveram mais chances de sobreviver?\n",
        "\n",
        "* Os passageiros que alguns passageiros foram menos favorecidos, apenas pelo fato de tirem embarcado na 3ª Classe?\n",
        "\n",
        "\n",
        "Com os dados reais disponibilizados, usando ferramentas da Ciência de Dados, você pode realizar análises exploratória, encontrar padrões nos dados e criar modelos preditivos para descobrir, por exemplo, qual seria a probabilidade de você e sua família ou amigos sobreviverem ao trágico naufrágio.\n",
        "\n",
        "No página do Kaggle [Titanic: Machine Learning from Disaster](https://www.kaggle.com/c/titanic), podemos encontrar disponíveis a descrição completa do desafio e os conjuntos de dados a serem utilizados.\n"
      ]
    },
    {
      "cell_type": "markdown",
      "metadata": {
        "id": "t3G--Mqr5b2t",
        "colab_type": "text"
      },
      "source": [
        "### **Objetivo**\n",
        "\n",
        "Inicialmente, será realizada uma análise exploratória do conjunto de dados, a fim de entender o comportamento das variáveis, como elas se distribuem e qual o grau de influência que cada uma representa na probabilidade de sobrevivência dos passageiros.\n",
        "Em seguida, após a análise dos dados, serão implementados modelos de Machine Learning com o objetivo de tentar prever quais as chances de sobrevivência de um passageira qualquer."
      ]
    },
    {
      "cell_type": "markdown",
      "metadata": {
        "id": "onPhNAQJ8ml1",
        "colab_type": "text"
      },
      "source": [
        "### **Aquisição dos Dados**\n",
        "\n",
        "Todos os dados necessários para a análise e construção do modelo foram retirados da [página do desafio do Titanic](https://medium.com/r/?url=https%3A%2F%2Fwww.kaggle.com%2Fc%2Ftitanic%2Fdata) no site Kaggle, os quais foram baixados e armazenados no [meu repositório do Github](https://medium.com/r/?url=https%3A%2F%2Fgithub.com%2Fjeffersonverissimo%2Fdatasets%2Ftree%2Fmaster%2Ftitanic). Os dados foram divididos em dois conjuntos:\n",
        "\n",
        "* **Conjunto de treino (train.csv):** composto por diversas informações sobre os passageiros, como gênero, classe de embarque, idade, etc. Esse conjunto também deve ser usado para construir e treinar o modelo de Machine Learning, nele é informado se o passageiro sobreviveu ou não.\n",
        "* **Conjunto de teste (test.csv):** este dataset não informa se o passageiro sobreviveu ou não, e deve ser usado como dados nunca vistos pelo modelo, de forma a verificar o desempenho do mesmo.\n",
        "\n",
        "Como se trata de um desafio, o participante deve submeter suas análises na plataforma do Kaggle que, por sua vez, também disponibiliza um gabarito (gender_submission.csv) informando como as previsões devem ser enviadas."
      ]
    },
    {
      "cell_type": "code",
      "metadata": {
        "id": "kF084PGALQZB",
        "colab_type": "code",
        "colab": {
          "base_uri": "https://localhost:8080/",
          "height": 71
        },
        "outputId": "9a083fc6-5476-452a-a0b8-4e12c6a982c6"
      },
      "source": [
        "# IMPORTAÇÃO DAS PRINCIPAIS BIBLIOTECAS\n",
        "\n",
        "import pandas as pd\n",
        "import matplotlib.pyplot as plt\n",
        "%matplotlib inline\n",
        "\n",
        "import seaborn as sns\n",
        "paleta_cores = [\"#34495e\", \"#5497B0\", \"#89B7D0\"]\n",
        "sns.set(style = \"dark\", palette = paleta_cores, color_codes = True)"
      ],
      "execution_count": 1,
      "outputs": [
        {
          "output_type": "stream",
          "text": [
            "/usr/local/lib/python3.6/dist-packages/statsmodels/tools/_testing.py:19: FutureWarning: pandas.util.testing is deprecated. Use the functions in the public API at pandas.testing instead.\n",
            "  import pandas.util.testing as tm\n"
          ],
          "name": "stderr"
        }
      ]
    },
    {
      "cell_type": "code",
      "metadata": {
        "id": "UrJFl_XEmsct",
        "colab_type": "code",
        "colab": {}
      },
      "source": [
        "# AQUISIÇÃO DOS CONJUNTOS DE DADOS\n",
        "\n",
        "treino = pd.read_csv('https://raw.githubusercontent.com/jeffersonverissimo/datasets/master/titanic/train.csv')\n",
        "teste =  pd.read_csv('https://raw.githubusercontent.com/jeffersonverissimo/datasets/master/titanic/test.csv')"
      ],
      "execution_count": 2,
      "outputs": []
    },
    {
      "cell_type": "markdown",
      "metadata": {
        "id": "OmqbFlgr7M1Y",
        "colab_type": "text"
      },
      "source": [
        "### **Análise Exploratória**\n",
        "\n",
        "Esta etapa é considerada por muitos cientistas de dados como a mais importante, uma vez que ela consome cerca de 70% do tempo total do projeto. As principais informações e respostas para perguntas iniciais podem ser obtidas através da análise exploratória dos dados, além disso, o desempenho dos modelos de machine learning construídos dependem diretamente desta etapa do projeto."
      ]
    },
    {
      "cell_type": "markdown",
      "metadata": {
        "id": "Fzl9a8NE0xuf",
        "colab_type": "text"
      },
      "source": [
        "Agora, usando a biblioteca Pandas, poderemos importar e visualizar os conjuntos de dados."
      ]
    },
    {
      "cell_type": "code",
      "metadata": {
        "id": "OK55m33lnM8s",
        "colab_type": "code",
        "colab": {
          "base_uri": "https://localhost:8080/",
          "height": 359
        },
        "outputId": "c61c7c50-7616-4f3c-ddff-c08dffd922e8"
      },
      "source": [
        "# VISIALIZAÇÃO DAS 10 PRIMEIRAS LINHAS\n",
        "\n",
        "treino.head(10)"
      ],
      "execution_count": 3,
      "outputs": [
        {
          "output_type": "execute_result",
          "data": {
            "text/html": [
              "<div>\n",
              "<style scoped>\n",
              "    .dataframe tbody tr th:only-of-type {\n",
              "        vertical-align: middle;\n",
              "    }\n",
              "\n",
              "    .dataframe tbody tr th {\n",
              "        vertical-align: top;\n",
              "    }\n",
              "\n",
              "    .dataframe thead th {\n",
              "        text-align: right;\n",
              "    }\n",
              "</style>\n",
              "<table border=\"1\" class=\"dataframe\">\n",
              "  <thead>\n",
              "    <tr style=\"text-align: right;\">\n",
              "      <th></th>\n",
              "      <th>PassengerId</th>\n",
              "      <th>Survived</th>\n",
              "      <th>Pclass</th>\n",
              "      <th>Name</th>\n",
              "      <th>Sex</th>\n",
              "      <th>Age</th>\n",
              "      <th>SibSp</th>\n",
              "      <th>Parch</th>\n",
              "      <th>Ticket</th>\n",
              "      <th>Fare</th>\n",
              "      <th>Cabin</th>\n",
              "      <th>Embarked</th>\n",
              "    </tr>\n",
              "  </thead>\n",
              "  <tbody>\n",
              "    <tr>\n",
              "      <th>0</th>\n",
              "      <td>1</td>\n",
              "      <td>0</td>\n",
              "      <td>3</td>\n",
              "      <td>Braund, Mr. Owen Harris</td>\n",
              "      <td>male</td>\n",
              "      <td>22.0</td>\n",
              "      <td>1</td>\n",
              "      <td>0</td>\n",
              "      <td>A/5 21171</td>\n",
              "      <td>7.2500</td>\n",
              "      <td>NaN</td>\n",
              "      <td>S</td>\n",
              "    </tr>\n",
              "    <tr>\n",
              "      <th>1</th>\n",
              "      <td>2</td>\n",
              "      <td>1</td>\n",
              "      <td>1</td>\n",
              "      <td>Cumings, Mrs. John Bradley (Florence Briggs Th...</td>\n",
              "      <td>female</td>\n",
              "      <td>38.0</td>\n",
              "      <td>1</td>\n",
              "      <td>0</td>\n",
              "      <td>PC 17599</td>\n",
              "      <td>71.2833</td>\n",
              "      <td>C85</td>\n",
              "      <td>C</td>\n",
              "    </tr>\n",
              "    <tr>\n",
              "      <th>2</th>\n",
              "      <td>3</td>\n",
              "      <td>1</td>\n",
              "      <td>3</td>\n",
              "      <td>Heikkinen, Miss. Laina</td>\n",
              "      <td>female</td>\n",
              "      <td>26.0</td>\n",
              "      <td>0</td>\n",
              "      <td>0</td>\n",
              "      <td>STON/O2. 3101282</td>\n",
              "      <td>7.9250</td>\n",
              "      <td>NaN</td>\n",
              "      <td>S</td>\n",
              "    </tr>\n",
              "    <tr>\n",
              "      <th>3</th>\n",
              "      <td>4</td>\n",
              "      <td>1</td>\n",
              "      <td>1</td>\n",
              "      <td>Futrelle, Mrs. Jacques Heath (Lily May Peel)</td>\n",
              "      <td>female</td>\n",
              "      <td>35.0</td>\n",
              "      <td>1</td>\n",
              "      <td>0</td>\n",
              "      <td>113803</td>\n",
              "      <td>53.1000</td>\n",
              "      <td>C123</td>\n",
              "      <td>S</td>\n",
              "    </tr>\n",
              "    <tr>\n",
              "      <th>4</th>\n",
              "      <td>5</td>\n",
              "      <td>0</td>\n",
              "      <td>3</td>\n",
              "      <td>Allen, Mr. William Henry</td>\n",
              "      <td>male</td>\n",
              "      <td>35.0</td>\n",
              "      <td>0</td>\n",
              "      <td>0</td>\n",
              "      <td>373450</td>\n",
              "      <td>8.0500</td>\n",
              "      <td>NaN</td>\n",
              "      <td>S</td>\n",
              "    </tr>\n",
              "    <tr>\n",
              "      <th>5</th>\n",
              "      <td>6</td>\n",
              "      <td>0</td>\n",
              "      <td>3</td>\n",
              "      <td>Moran, Mr. James</td>\n",
              "      <td>male</td>\n",
              "      <td>NaN</td>\n",
              "      <td>0</td>\n",
              "      <td>0</td>\n",
              "      <td>330877</td>\n",
              "      <td>8.4583</td>\n",
              "      <td>NaN</td>\n",
              "      <td>Q</td>\n",
              "    </tr>\n",
              "    <tr>\n",
              "      <th>6</th>\n",
              "      <td>7</td>\n",
              "      <td>0</td>\n",
              "      <td>1</td>\n",
              "      <td>McCarthy, Mr. Timothy J</td>\n",
              "      <td>male</td>\n",
              "      <td>54.0</td>\n",
              "      <td>0</td>\n",
              "      <td>0</td>\n",
              "      <td>17463</td>\n",
              "      <td>51.8625</td>\n",
              "      <td>E46</td>\n",
              "      <td>S</td>\n",
              "    </tr>\n",
              "    <tr>\n",
              "      <th>7</th>\n",
              "      <td>8</td>\n",
              "      <td>0</td>\n",
              "      <td>3</td>\n",
              "      <td>Palsson, Master. Gosta Leonard</td>\n",
              "      <td>male</td>\n",
              "      <td>2.0</td>\n",
              "      <td>3</td>\n",
              "      <td>1</td>\n",
              "      <td>349909</td>\n",
              "      <td>21.0750</td>\n",
              "      <td>NaN</td>\n",
              "      <td>S</td>\n",
              "    </tr>\n",
              "    <tr>\n",
              "      <th>8</th>\n",
              "      <td>9</td>\n",
              "      <td>1</td>\n",
              "      <td>3</td>\n",
              "      <td>Johnson, Mrs. Oscar W (Elisabeth Vilhelmina Berg)</td>\n",
              "      <td>female</td>\n",
              "      <td>27.0</td>\n",
              "      <td>0</td>\n",
              "      <td>2</td>\n",
              "      <td>347742</td>\n",
              "      <td>11.1333</td>\n",
              "      <td>NaN</td>\n",
              "      <td>S</td>\n",
              "    </tr>\n",
              "    <tr>\n",
              "      <th>9</th>\n",
              "      <td>10</td>\n",
              "      <td>1</td>\n",
              "      <td>2</td>\n",
              "      <td>Nasser, Mrs. Nicholas (Adele Achem)</td>\n",
              "      <td>female</td>\n",
              "      <td>14.0</td>\n",
              "      <td>1</td>\n",
              "      <td>0</td>\n",
              "      <td>237736</td>\n",
              "      <td>30.0708</td>\n",
              "      <td>NaN</td>\n",
              "      <td>C</td>\n",
              "    </tr>\n",
              "  </tbody>\n",
              "</table>\n",
              "</div>"
            ],
            "text/plain": [
              "   PassengerId  Survived  Pclass  ...     Fare Cabin  Embarked\n",
              "0            1         0       3  ...   7.2500   NaN         S\n",
              "1            2         1       1  ...  71.2833   C85         C\n",
              "2            3         1       3  ...   7.9250   NaN         S\n",
              "3            4         1       1  ...  53.1000  C123         S\n",
              "4            5         0       3  ...   8.0500   NaN         S\n",
              "5            6         0       3  ...   8.4583   NaN         Q\n",
              "6            7         0       1  ...  51.8625   E46         S\n",
              "7            8         0       3  ...  21.0750   NaN         S\n",
              "8            9         1       3  ...  11.1333   NaN         S\n",
              "9           10         1       2  ...  30.0708   NaN         C\n",
              "\n",
              "[10 rows x 12 columns]"
            ]
          },
          "metadata": {
            "tags": []
          },
          "execution_count": 3
        }
      ]
    },
    {
      "cell_type": "markdown",
      "metadata": {
        "id": "DNvuwvAU7ZUy",
        "colab_type": "text"
      },
      "source": [
        "**Para ajudar a acompreender as variáveis do conjunto de dados, podemos contar com o auxílio de um dicionário.**\n",
        "\n",
        "* **PassengerID:** Número de identificação do passageiro\n",
        "* **Survived:** Informa se o passageiro sobreviveu ao naufrágio \n",
        " * 0 = não\n",
        " * 1 = sim\n",
        "* **PCclass:** Classe do bilhete \n",
        " * 1 = 1ª classe\n",
        " * 2 = 2ª classe\n",
        " * 3 = 3ª classe\n",
        "* **Name:** Nome do passageiro\n",
        "* **Sex:** Sexo do passageiro\n",
        "* **Age:** Idade do passageiro\n",
        "* **SibSp:** Quantidade de cônjuges e/ou irmãos a bordo\n",
        "* **Parch:** Quantidade de pais e filhos a bordo\n",
        "* **Ticket:** Número da passagem\n",
        "* **Fare:** Preço da passagem\n",
        "* **Cabin:** Número da cabine do passageiro\n",
        "* **Embarked:** Porto de embarque\n",
        " * C = Cherbourg\n",
        " * Q = Queenstown\n",
        " * S = Southampton"
      ]
    },
    {
      "cell_type": "markdown",
      "metadata": {
        "id": "-fgFByw88Tgr",
        "colab_type": "text"
      },
      "source": [
        "Agora, que já sabemos do que se trata cada variável do dataset, podemos começar as análises."
      ]
    },
    {
      "cell_type": "markdown",
      "metadata": {
        "id": "yngM4naA4KPX",
        "colab_type": "text"
      },
      "source": [
        "**Quantos atributos (variáveis) e quantas entradas o nosso conjunto de dados possui?**"
      ]
    },
    {
      "cell_type": "code",
      "metadata": {
        "id": "lweqhlY3ueOG",
        "colab_type": "code",
        "colab": {
          "base_uri": "https://localhost:8080/",
          "height": 51
        },
        "outputId": "84494664-9598-4134-fd77-4af12fd89c6f"
      },
      "source": [
        "print('Colunas:', treino.shape[1])\n",
        "print('Linhas:', treino.shape[0])"
      ],
      "execution_count": 4,
      "outputs": [
        {
          "output_type": "stream",
          "text": [
            "Colunas: 12\n",
            "Linhas: 891\n"
          ],
          "name": "stdout"
        }
      ]
    },
    {
      "cell_type": "markdown",
      "metadata": {
        "id": "9l_aTShH4xdR",
        "colab_type": "text"
      },
      "source": [
        "**Quais os tipos das variáveis?**"
      ]
    },
    {
      "cell_type": "code",
      "metadata": {
        "id": "yD-oZPpXuO60",
        "colab_type": "code",
        "colab": {
          "base_uri": "https://localhost:8080/",
          "height": 238
        },
        "outputId": "641b078b-b934-4fd9-903f-8ab476da942e"
      },
      "source": [
        "treino.dtypes"
      ],
      "execution_count": 5,
      "outputs": [
        {
          "output_type": "execute_result",
          "data": {
            "text/plain": [
              "PassengerId      int64\n",
              "Survived         int64\n",
              "Pclass           int64\n",
              "Name            object\n",
              "Sex             object\n",
              "Age            float64\n",
              "SibSp            int64\n",
              "Parch            int64\n",
              "Ticket          object\n",
              "Fare           float64\n",
              "Cabin           object\n",
              "Embarked        object\n",
              "dtype: object"
            ]
          },
          "metadata": {
            "tags": []
          },
          "execution_count": 5
        }
      ]
    },
    {
      "cell_type": "markdown",
      "metadata": {
        "id": "B-3-a_jpwhmP",
        "colab_type": "text"
      },
      "source": [
        "O conjunto de dados contém 7 variáveis numéricas e 5 do tipo *object*, estas últimas são *strings*, como pudemos observar nas primeiras linhas do *dataset*."
      ]
    },
    {
      "cell_type": "markdown",
      "metadata": {
        "id": "BCkfst2F-vI-",
        "colab_type": "text"
      },
      "source": [
        "**Há dados faltantes no *dataset*?**"
      ]
    },
    {
      "cell_type": "code",
      "metadata": {
        "id": "xMdbJ9rK-z34",
        "colab_type": "code",
        "colab": {
          "base_uri": "https://localhost:8080/",
          "height": 238
        },
        "outputId": "ee611e6a-1e8a-4cbe-d7b8-11a2bc36bdf6"
      },
      "source": [
        "treino.isnull().sum()"
      ],
      "execution_count": 6,
      "outputs": [
        {
          "output_type": "execute_result",
          "data": {
            "text/plain": [
              "PassengerId      0\n",
              "Survived         0\n",
              "Pclass           0\n",
              "Name             0\n",
              "Sex              0\n",
              "Age            177\n",
              "SibSp            0\n",
              "Parch            0\n",
              "Ticket           0\n",
              "Fare             0\n",
              "Cabin          687\n",
              "Embarked         2\n",
              "dtype: int64"
            ]
          },
          "metadata": {
            "tags": []
          },
          "execution_count": 6
        }
      ]
    },
    {
      "cell_type": "markdown",
      "metadata": {
        "id": "UVJmezEuxR0f",
        "colab_type": "text"
      },
      "source": [
        "Apenas três variáveis possuem valores ausentes, `Age`, `Cabin` e `Embarked`, sendo que a maior quantidade de dados faltantes estão presentes na coluna ***Cabin***, *687* entradas ausentes. Enquanto ***Age*** possui 177 entradas faltantes e ***Embarked*** possui 2.\n",
        "\n",
        "Dentre essas variáveis, a que pode apresentar maiores problemas ao implementarmos um modelo de machine learning é a `Age`, uma vez que corresponde a catacterísticas diretas dos passageiros, sendo um dado fundamental durante a análise exploratória.\n",
        "\n",
        "Contudo, podemos tratar esses valores ausentes mais adiante, usando algumas alternativas para remover ou substituir esses dados faltantes."
      ]
    },
    {
      "cell_type": "markdown",
      "metadata": {
        "id": "9_wabs2e_a1K",
        "colab_type": "text"
      },
      "source": [
        "**Qual a distribuição estatística dos dados?**"
      ]
    },
    {
      "cell_type": "code",
      "metadata": {
        "id": "LPX8Oh5u-4fa",
        "colab_type": "code",
        "colab": {
          "base_uri": "https://localhost:8080/",
          "height": 297
        },
        "outputId": "8d2efa07-c1dd-4a0c-f84d-0dbdf70668a0"
      },
      "source": [
        "treino.describe()"
      ],
      "execution_count": 7,
      "outputs": [
        {
          "output_type": "execute_result",
          "data": {
            "text/html": [
              "<div>\n",
              "<style scoped>\n",
              "    .dataframe tbody tr th:only-of-type {\n",
              "        vertical-align: middle;\n",
              "    }\n",
              "\n",
              "    .dataframe tbody tr th {\n",
              "        vertical-align: top;\n",
              "    }\n",
              "\n",
              "    .dataframe thead th {\n",
              "        text-align: right;\n",
              "    }\n",
              "</style>\n",
              "<table border=\"1\" class=\"dataframe\">\n",
              "  <thead>\n",
              "    <tr style=\"text-align: right;\">\n",
              "      <th></th>\n",
              "      <th>PassengerId</th>\n",
              "      <th>Survived</th>\n",
              "      <th>Pclass</th>\n",
              "      <th>Age</th>\n",
              "      <th>SibSp</th>\n",
              "      <th>Parch</th>\n",
              "      <th>Fare</th>\n",
              "    </tr>\n",
              "  </thead>\n",
              "  <tbody>\n",
              "    <tr>\n",
              "      <th>count</th>\n",
              "      <td>891.000000</td>\n",
              "      <td>891.000000</td>\n",
              "      <td>891.000000</td>\n",
              "      <td>714.000000</td>\n",
              "      <td>891.000000</td>\n",
              "      <td>891.000000</td>\n",
              "      <td>891.000000</td>\n",
              "    </tr>\n",
              "    <tr>\n",
              "      <th>mean</th>\n",
              "      <td>446.000000</td>\n",
              "      <td>0.383838</td>\n",
              "      <td>2.308642</td>\n",
              "      <td>29.699118</td>\n",
              "      <td>0.523008</td>\n",
              "      <td>0.381594</td>\n",
              "      <td>32.204208</td>\n",
              "    </tr>\n",
              "    <tr>\n",
              "      <th>std</th>\n",
              "      <td>257.353842</td>\n",
              "      <td>0.486592</td>\n",
              "      <td>0.836071</td>\n",
              "      <td>14.526497</td>\n",
              "      <td>1.102743</td>\n",
              "      <td>0.806057</td>\n",
              "      <td>49.693429</td>\n",
              "    </tr>\n",
              "    <tr>\n",
              "      <th>min</th>\n",
              "      <td>1.000000</td>\n",
              "      <td>0.000000</td>\n",
              "      <td>1.000000</td>\n",
              "      <td>0.420000</td>\n",
              "      <td>0.000000</td>\n",
              "      <td>0.000000</td>\n",
              "      <td>0.000000</td>\n",
              "    </tr>\n",
              "    <tr>\n",
              "      <th>25%</th>\n",
              "      <td>223.500000</td>\n",
              "      <td>0.000000</td>\n",
              "      <td>2.000000</td>\n",
              "      <td>20.125000</td>\n",
              "      <td>0.000000</td>\n",
              "      <td>0.000000</td>\n",
              "      <td>7.910400</td>\n",
              "    </tr>\n",
              "    <tr>\n",
              "      <th>50%</th>\n",
              "      <td>446.000000</td>\n",
              "      <td>0.000000</td>\n",
              "      <td>3.000000</td>\n",
              "      <td>28.000000</td>\n",
              "      <td>0.000000</td>\n",
              "      <td>0.000000</td>\n",
              "      <td>14.454200</td>\n",
              "    </tr>\n",
              "    <tr>\n",
              "      <th>75%</th>\n",
              "      <td>668.500000</td>\n",
              "      <td>1.000000</td>\n",
              "      <td>3.000000</td>\n",
              "      <td>38.000000</td>\n",
              "      <td>1.000000</td>\n",
              "      <td>0.000000</td>\n",
              "      <td>31.000000</td>\n",
              "    </tr>\n",
              "    <tr>\n",
              "      <th>max</th>\n",
              "      <td>891.000000</td>\n",
              "      <td>1.000000</td>\n",
              "      <td>3.000000</td>\n",
              "      <td>80.000000</td>\n",
              "      <td>8.000000</td>\n",
              "      <td>6.000000</td>\n",
              "      <td>512.329200</td>\n",
              "    </tr>\n",
              "  </tbody>\n",
              "</table>\n",
              "</div>"
            ],
            "text/plain": [
              "       PassengerId    Survived      Pclass  ...       SibSp       Parch        Fare\n",
              "count   891.000000  891.000000  891.000000  ...  891.000000  891.000000  891.000000\n",
              "mean    446.000000    0.383838    2.308642  ...    0.523008    0.381594   32.204208\n",
              "std     257.353842    0.486592    0.836071  ...    1.102743    0.806057   49.693429\n",
              "min       1.000000    0.000000    1.000000  ...    0.000000    0.000000    0.000000\n",
              "25%     223.500000    0.000000    2.000000  ...    0.000000    0.000000    7.910400\n",
              "50%     446.000000    0.000000    3.000000  ...    0.000000    0.000000   14.454200\n",
              "75%     668.500000    1.000000    3.000000  ...    1.000000    0.000000   31.000000\n",
              "max     891.000000    1.000000    3.000000  ...    8.000000    6.000000  512.329200\n",
              "\n",
              "[8 rows x 7 columns]"
            ]
          },
          "metadata": {
            "tags": []
          },
          "execution_count": 7
        }
      ]
    },
    {
      "cell_type": "markdown",
      "metadata": {
        "id": "X05ebC5yyl0Q",
        "colab_type": "text"
      },
      "source": [
        "Acima, podemos ver o resumo dos principais parâmetros estatísticos do nosso conjunto de dados, nele são apresentados valores de média, mediana, desvio padrão, etc. E claro, esse resumo se refere apenas às variáveis numéricas.\n",
        "\n",
        "Mais precisamente, as variáveis que realmente importam nesse caso, são `Pclass`, `Age`, `SibSb`, `Parch` e `Fare`, uma vez que `PassengerID` e `Survived` identificam o número do passageiro e se ele sobreviveu ao desastre, respectivamente."
      ]
    },
    {
      "cell_type": "markdown",
      "metadata": {
        "id": "VxDR16WZ_eom",
        "colab_type": "text"
      },
      "source": [
        "**Existem *outliers* no conjunto de dados?**"
      ]
    },
    {
      "cell_type": "markdown",
      "metadata": {
        "id": "TcujVFoSzHK8",
        "colab_type": "text"
      },
      "source": [
        "É fundamental sabermos identificar a presença de *outliers* no nosso *dataset*, dados que se diferenciam muito dos outros, ou seja, são valores que fogem da normalidade. Esses *outliers* podem influenciar drasticamente uma determinada análise realizada no *dataset*, causando problemas nos resulados obtidos.\n",
        "\n",
        "Graficamente, os *outliers* podem ser identificados através de histogramas ou usando o **boxplot**, e é isso que será feito em seguida."
      ]
    },
    {
      "cell_type": "code",
      "metadata": {
        "id": "6S0xR99jxqI0",
        "colab_type": "code",
        "colab": {
          "base_uri": "https://localhost:8080/",
          "height": 441
        },
        "outputId": "331ba90a-7d0b-4ebe-a265-e8fd17e1dd7d"
      },
      "source": [
        "fig, (axis1, axis2) = plt.subplots(2,1, figsize = (15,6))\n",
        "sns.boxplot(data = treino, x = 'Age', ax = axis1)\n",
        "sns.boxplot(data = treino, x = 'Fare', ax = axis2)\n",
        "\n",
        "plt.tight_layout()"
      ],
      "execution_count": 8,
      "outputs": [
        {
          "output_type": "display_data",
          "data": {
            "image/png": "[encoded data removed]",
            "text/plain": [
              "<Figure size 1080x432 with 2 Axes>"
            ]
          },
          "metadata": {
            "tags": [],
            "needs_background": "light"
          }
        }
      ]
    },
    {
      "cell_type": "markdown",
      "metadata": {
        "id": "SwVqiHaCzYR8",
        "colab_type": "text"
      },
      "source": [
        "Acima, podemos perceber que existem *outliers* presentes no conjunto de dados, mais especificamente, os gráficos mostram esses resultados para as variáveis `Age` e `Fare`. É provável que existam valores discrepantes presentes em outras variáveis também.\n",
        "\n",
        "Assim, teremos que analisar melhor e tratar esses dados."
      ]
    },
    {
      "cell_type": "markdown",
      "metadata": {
        "id": "6h4O6x3T8JnI",
        "colab_type": "text"
      },
      "source": [
        "#### **Após extrairmos algumas informações iniciais do conjunto de dados, podemos partir para questionamentos mais específicos, relacionados diretamente à chance de sobrevivência de um determinado grupo de passageiros, considerando classe de embarque, sexo, idade, etc.**"
      ]
    },
    {
      "cell_type": "code",
      "metadata": {
        "id": "rLz12pQKRHIU",
        "colab_type": "code",
        "colab": {
          "base_uri": "https://localhost:8080/",
          "height": 369
        },
        "outputId": "d4fa9fef-71c0-41a5-a63b-cb372b21d07a"
      },
      "source": [
        "fig, (axis1, axis2, axis3) = plt.subplots(1,3, figsize = (15,5))\n",
        "\n",
        "sns.barplot(data = treino, x = 'Sex', y = 'Survived', ax = axis1)\n",
        "sns.barplot(data = treino, x = 'Pclass', y = 'Survived', ax = axis2)\n",
        "sns.barplot(data = treino, x = 'Embarked', y = 'Survived', ax = axis3)\n",
        "\n",
        "plt.tight_layout()"
      ],
      "execution_count": 9,
      "outputs": [
        {
          "output_type": "display_data",
          "data": {
            "image/png": "[encoded data removed]",
            "text/plain": [
              "<Figure size 1080x360 with 3 Axes>"
            ]
          },
          "metadata": {
            "tags": [],
            "needs_background": "light"
          }
        }
      ]
    },
    {
      "cell_type": "markdown",
      "metadata": {
        "id": "xrpLb7u8d-Lm",
        "colab_type": "text"
      },
      "source": [
        "A partir da análise dos três gráficos acima, podemos extrair duas informações importantes:\n",
        "\n",
        "* As mulheres têm muito mais chances de sobreviverem do que os homens, enquanto elas possuem cerca de **75%** de chances, os homens apresentam cerca de **18%**.\n",
        "\n",
        "* Os passageiros que viajaram na **1ª Classe** possuem mais que o dobro de chances de sobreviverem em relação aos que compraram a **3ª Classe**.\n",
        "\n",
        "* Os passageiros que embarcaram a partir da cidade de **Cherbourg** são os que mais têm chances de sobreviverem, enquanto os que embarcaram em **Southampton**, possuem as menores chances."
      ]
    },
    {
      "cell_type": "markdown",
      "metadata": {
        "id": "alt0GEsifxZT",
        "colab_type": "text"
      },
      "source": [
        "As probabilidades de sobrevivência das mulheres no desastre do Titanic se estestem para todos os casos individuais, para todas as classes de viagem e cidades de embarque, como podemos observar nos gráficos abaixo."
      ]
    },
    {
      "cell_type": "code",
      "metadata": {
        "id": "_B5Z-B2a4wKV",
        "colab_type": "code",
        "colab": {
          "base_uri": "https://localhost:8080/",
          "height": 721
        },
        "outputId": "e6772005-9b32-4881-b356-e472506f424f"
      },
      "source": [
        "sns.catplot(x = \"Sex\", y = \"Survived\", col = \"Pclass\", data = treino, saturation = .5, kind = \"bar\", ci = None, aspect = 0.8)\n",
        "sns.catplot(x = \"Sex\", y = \"Survived\", col = \"Embarked\", data = treino, saturation = .5, kind = \"bar\", ci = None, aspect = 0.8)\n",
        "\n",
        "plt.tight_layout()"
      ],
      "execution_count": 10,
      "outputs": [
        {
          "output_type": "display_data",
          "data": {
            "image/png": "[encoded data removed]",
            "text/plain": [
              "<Figure size 864x360 with 3 Axes>"
            ]
          },
          "metadata": {
            "tags": [],
            "needs_background": "light"
          }
        },
        {
          "output_type": "display_data",
          "data": {
            "image/png": "[encoded data removed]",
            "text/plain": [
              "<Figure size 864x360 with 3 Axes>"
            ]
          },
          "metadata": {
            "tags": [],
            "needs_background": "light"
          }
        }
      ]
    },
    {
      "cell_type": "markdown",
      "metadata": {
        "id": "9FqLXEm6gHG1",
        "colab_type": "text"
      },
      "source": [
        "Também podemos realizar a análise em relação às idades dos passageiros e saber quais tiveram mais chances de sobreviver."
      ]
    },
    {
      "cell_type": "code",
      "metadata": {
        "id": "RXJrtUabgrRL",
        "colab_type": "code",
        "colab": {
          "base_uri": "https://localhost:8080/",
          "height": 369
        },
        "outputId": "dcec6be8-4a9c-42ca-a9f7-dffd851a240d"
      },
      "source": [
        "sns.FacetGrid(treino, col = 'Survived', height = 5).map(sns.distplot, 'Age')\n",
        "\n",
        "plt.tight_layout()"
      ],
      "execution_count": 11,
      "outputs": [
        {
          "output_type": "display_data",
          "data": {
            "image/png": "[encoded data removed]",
            "text/plain": [
              "<Figure size 720x360 with 2 Axes>"
            ]
          },
          "metadata": {
            "tags": [],
            "needs_background": "light"
          }
        }
      ]
    },
    {
      "cell_type": "markdown",
      "metadata": {
        "id": "qwFK-R39o9dr",
        "colab_type": "text"
      },
      "source": [
        "OS gráficos acima mostram a distribuição de idades para os sobreviventes e mortes no naufrágio, podemos perceber que a maior parte dos passageiros, nas duas situações, possuem idades entre 20 e 30 anos.\n",
        "\n",
        "No gráfico da direita (sobreviventes), podemos perceber que há um pico nos passageiros que possuem idade de até 5 anos, mostrando que crianças um pouco menores têm mais chances de sobreviver.\n",
        "\n"
      ]
    },
    {
      "cell_type": "markdown",
      "metadata": {
        "id": "HzloyvSB_pzb",
        "colab_type": "text"
      },
      "source": [
        "**Qual a correlação entre as variáveis do *dataset*?**"
      ]
    },
    {
      "cell_type": "markdown",
      "metadata": {
        "id": "aOunA_Cwq7MI",
        "colab_type": "text"
      },
      "source": [
        "Através desse gráfico, podemos entender a correlação entre as variáveis, se é positiva ou negativa."
      ]
    },
    {
      "cell_type": "code",
      "metadata": {
        "id": "vt0xrSy0hXJ-",
        "colab_type": "code",
        "colab": {
          "base_uri": "https://localhost:8080/",
          "height": 441
        },
        "outputId": "b8e7daed-ad2c-4f63-cb27-0d9f98e098dc"
      },
      "source": [
        "# colormap = sns.diverging_palette(220, 10, as_cmap = True)\n",
        "\n",
        "fig, ax = plt.subplots(figsize = (8,6))\n",
        "ax = sns.heatmap(treino.corr(), fmt = '.2g', cmap = 'Purples', annot= True)\n",
        "plt.tight_layout()"
      ],
      "execution_count": 12,
      "outputs": [
        {
          "output_type": "display_data",
          "data": {
            "image/png": "[encoded data removed]",
            "text/plain": [
              "<Figure size 576x432 with 2 Axes>"
            ]
          },
          "metadata": {
            "tags": [],
            "needs_background": "light"
          }
        }
      ]
    },
    {
      "cell_type": "markdown",
      "metadata": {
        "id": "13GTV9nLrdcN",
        "colab_type": "text"
      },
      "source": [
        "As maiores correlações apresentadas foram entre as variáveis Parch (Quantidade de pais e filhos a bordo) e SibSp (Quantidade de cônjuges e irmãos a bordo), cujo valor é de 0,41."
      ]
    },
    {
      "cell_type": "markdown",
      "metadata": {
        "id": "-gvqIvxusfca",
        "colab_type": "text"
      },
      "source": [
        "Ao final dessa análise exploratória, foi possível entender melhor os dados e como eles se comportam, extraindo informações que serão importantes ao implementar o modelo de machine learning, pois será mais fácil escolher as melhores variáveis para melhorar o desempenho do modelo."
      ]
    },
    {
      "cell_type": "markdown",
      "metadata": {
        "id": "vPK9xbRTsVTp",
        "colab_type": "text"
      },
      "source": [
        "### **Modelo de Machine Learning**"
      ]
    },
    {
      "cell_type": "markdown",
      "metadata": {
        "id": "MMhW4V7Z55YA",
        "colab_type": "text"
      },
      "source": [
        "O modelo preditivo a ser implementado após a análise exploratória será de Aprendizado Supervisionado, com base nisso e nas descrições das colunas do dataset, é fácil identificar que a coluna Survived é a variável alvo (target).\n",
        "Agora que já sabemos o comportamento geral dos dados, podemos prepará-los para construir o modelo de machine learning, selecionando as melhores features e limpando os dados necessários.\n",
        "\n",
        "Neste projeto, serão implementados modelos de classificação, pois procuramos saber quais passageiros sobreviveram ou não ao naufrágio. Mais especificamente, os modelos de Regressão Logística, Árvore de Decisão e Máquina de Vetor de Suporte (SVM) serão utilizados. Os desempenhos de cada modelo serão analisados e comparados considerando as devidas métricas para modelos de classificação.\n",
        "\n",
        "Por fim, mas não menos importante, após realizar as análises de desempenho dos modelos, serão submetidos à competição do Kaggle e verificar o score alcançado."
      ]
    },
    {
      "cell_type": "markdown",
      "metadata": {
        "id": "zInCN9y0MQtC",
        "colab_type": "text"
      },
      "source": [
        "**Preparação dos Dados**\n",
        "\n",
        "Nesta etapa, devemos nos preocupar em fazer os ajustes finais dos dados e tratá-los para alimentar o modelo. Esses ajustes envolver a seleção das features, criação de novas variáveis, limpeza dos dados, separação do dataset, etc.\n",
        "\n",
        "**Organização dos Conjuntos de Dados**\n",
        "\n",
        "Apesar de os datasets de treino e testes estarem inicialmente separados, uma boa prática é juntá-los em um único dataset para poder aplicar as devidas alterações e depois separá-los novamente. Isso, além de importante, oferece praticidade, pois as mudanças precisam ser as mesmas para os dois conjuntos de dados."
      ]
    },
    {
      "cell_type": "code",
      "metadata": {
        "id": "Ee8aCYJXPPq_",
        "colab_type": "code",
        "colab": {}
      },
      "source": [
        "# SALVANDO OS ÍNDICES PARA RECUPERAÇÃO DOS CONJUNTOS DE DADOS\n",
        "\n",
        "treino_ID = treino.shape[0]\n",
        "\n",
        "teste_ID = teste.shape[0]"
      ],
      "execution_count": 13,
      "outputs": []
    },
    {
      "cell_type": "code",
      "metadata": {
        "id": "MRou8uxGO9aH",
        "colab_type": "code",
        "colab": {}
      },
      "source": [
        "# SALVANDO O 'PASSANGERID' PARA SUBMISSÃO NO KAGGLE\n",
        "\n",
        "Passenger_ID = teste.PassengerId"
      ],
      "execution_count": 14,
      "outputs": []
    },
    {
      "cell_type": "code",
      "metadata": {
        "id": "fff7uTMZOuwA",
        "colab_type": "code",
        "colab": {}
      },
      "source": [
        "# SALVANDO VARIÁVEL ALVO (TARGET) E SEPARANDO DO DATASET DE TREINO\n",
        "\n",
        "target = treino['Survived'].copy()\n",
        "treino.drop(['Survived'], axis = 1, inplace = True)"
      ],
      "execution_count": 15,
      "outputs": []
    },
    {
      "cell_type": "code",
      "metadata": {
        "id": "wT3-jfFBVa3F",
        "colab_type": "code",
        "colab": {}
      },
      "source": [
        "# JUNTANDO OS CONJUNTOS DE DADOS\n",
        "\n",
        "df_total = pd.concat(objs = [treino, teste], axis = 0).reset_index(drop = True)"
      ],
      "execution_count": 16,
      "outputs": []
    },
    {
      "cell_type": "code",
      "metadata": {
        "id": "FpMPhApEWI4v",
        "colab_type": "code",
        "colab": {
          "base_uri": "https://localhost:8080/",
          "height": 34
        },
        "outputId": "ba0cd96b-1d36-460f-d18c-d2917aab5f2d"
      },
      "source": [
        "# TAMANHO DO NOVO DATASET\n",
        "\n",
        "df_total.shape"
      ],
      "execution_count": 17,
      "outputs": [
        {
          "output_type": "execute_result",
          "data": {
            "text/plain": [
              "(1309, 11)"
            ]
          },
          "metadata": {
            "tags": []
          },
          "execution_count": 17
        }
      ]
    },
    {
      "cell_type": "markdown",
      "metadata": {
        "id": "szr2mcF3BRim",
        "colab_type": "text"
      },
      "source": [
        "**Selecionando as Principais Variáveis**\n",
        "\n",
        "Nesta etapa, é fundamental selecionarmos as variáveis que realmente são relevantes para a construção do modelo. Contudo, vale ressaltar que nem sempre fazemos as melhores escolhas ao selecionar as features, sendo preciso repensar e avaliar novamente a significância das variáveis. Neste projeto, serão consideradas apenas as variáveis `Pclass`, `Sex`, `Age`, `SibSp`, `Parch`, `Fare`, `Embarked`.\n",
        "\n",
        "Assim, as demais variáveis serão descartadas neste momento, por não serem relevantes."
      ]
    },
    {
      "cell_type": "code",
      "metadata": {
        "id": "Y_m1nJqcBiNL",
        "colab_type": "code",
        "colab": {}
      },
      "source": [
        "# REMOVENDO AS VARIÁVEIS IRRELEVANTES\n",
        "\n",
        "df_total.drop(['PassengerId', 'Name', 'Ticket', 'Cabin'], axis = 1, inplace = True)"
      ],
      "execution_count": 18,
      "outputs": []
    },
    {
      "cell_type": "code",
      "metadata": {
        "id": "qtPjdsxCB2uf",
        "colab_type": "code",
        "colab": {
          "base_uri": "https://localhost:8080/",
          "height": 204
        },
        "outputId": "a7e68bc4-30e8-4279-c367-2bcc10d1093b"
      },
      "source": [
        "# RESUTLADO\n",
        "\n",
        "df_total.head()"
      ],
      "execution_count": 19,
      "outputs": [
        {
          "output_type": "execute_result",
          "data": {
            "text/html": [
              "<div>\n",
              "<style scoped>\n",
              "    .dataframe tbody tr th:only-of-type {\n",
              "        vertical-align: middle;\n",
              "    }\n",
              "\n",
              "    .dataframe tbody tr th {\n",
              "        vertical-align: top;\n",
              "    }\n",
              "\n",
              "    .dataframe thead th {\n",
              "        text-align: right;\n",
              "    }\n",
              "</style>\n",
              "<table border=\"1\" class=\"dataframe\">\n",
              "  <thead>\n",
              "    <tr style=\"text-align: right;\">\n",
              "      <th></th>\n",
              "      <th>Pclass</th>\n",
              "      <th>Sex</th>\n",
              "      <th>Age</th>\n",
              "      <th>SibSp</th>\n",
              "      <th>Parch</th>\n",
              "      <th>Fare</th>\n",
              "      <th>Embarked</th>\n",
              "    </tr>\n",
              "  </thead>\n",
              "  <tbody>\n",
              "    <tr>\n",
              "      <th>0</th>\n",
              "      <td>3</td>\n",
              "      <td>male</td>\n",
              "      <td>22.0</td>\n",
              "      <td>1</td>\n",
              "      <td>0</td>\n",
              "      <td>7.2500</td>\n",
              "      <td>S</td>\n",
              "    </tr>\n",
              "    <tr>\n",
              "      <th>1</th>\n",
              "      <td>1</td>\n",
              "      <td>female</td>\n",
              "      <td>38.0</td>\n",
              "      <td>1</td>\n",
              "      <td>0</td>\n",
              "      <td>71.2833</td>\n",
              "      <td>C</td>\n",
              "    </tr>\n",
              "    <tr>\n",
              "      <th>2</th>\n",
              "      <td>3</td>\n",
              "      <td>female</td>\n",
              "      <td>26.0</td>\n",
              "      <td>0</td>\n",
              "      <td>0</td>\n",
              "      <td>7.9250</td>\n",
              "      <td>S</td>\n",
              "    </tr>\n",
              "    <tr>\n",
              "      <th>3</th>\n",
              "      <td>1</td>\n",
              "      <td>female</td>\n",
              "      <td>35.0</td>\n",
              "      <td>1</td>\n",
              "      <td>0</td>\n",
              "      <td>53.1000</td>\n",
              "      <td>S</td>\n",
              "    </tr>\n",
              "    <tr>\n",
              "      <th>4</th>\n",
              "      <td>3</td>\n",
              "      <td>male</td>\n",
              "      <td>35.0</td>\n",
              "      <td>0</td>\n",
              "      <td>0</td>\n",
              "      <td>8.0500</td>\n",
              "      <td>S</td>\n",
              "    </tr>\n",
              "  </tbody>\n",
              "</table>\n",
              "</div>"
            ],
            "text/plain": [
              "   Pclass     Sex   Age  SibSp  Parch     Fare Embarked\n",
              "0       3    male  22.0      1      0   7.2500        S\n",
              "1       1  female  38.0      1      0  71.2833        C\n",
              "2       3  female  26.0      0      0   7.9250        S\n",
              "3       1  female  35.0      1      0  53.1000        S\n",
              "4       3    male  35.0      0      0   8.0500        S"
            ]
          },
          "metadata": {
            "tags": []
          },
          "execution_count": 19
        }
      ]
    },
    {
      "cell_type": "markdown",
      "metadata": {
        "id": "IU_1fN6iCT23",
        "colab_type": "text"
      },
      "source": [
        "**Tratando os Valores Ausentes**\n",
        "\n",
        "Como comentado anteriormente, a presença de valores faltantes no conjunto de dados influencia diretamente as análises exploratória e o aprendizado dos modelos. Desta forma, precisamos tratar esses dados adotando alguns métodos, por exemplo, excluindo esses valores ou substituindo-os por outros que possivelmente representem bem esses dados.\n",
        "\n",
        "Contudo, cada conjunto de dados é tratado de maneira diferente, cabendo ao cientista de dados encontrar a melhor solução. Apesar de ser uma opção, não é interessante, na maioria das vezes, excluir dos dados. Em vez disso, é melhor substituir esses dados faltantes pela média ou mediana, por exemplo."
      ]
    },
    {
      "cell_type": "code",
      "metadata": {
        "id": "LvCOxy32CA2k",
        "colab_type": "code",
        "colab": {
          "base_uri": "https://localhost:8080/",
          "height": 153
        },
        "outputId": "21a92e20-a7df-48f9-b903-3a7ad57cdd79"
      },
      "source": [
        "df_total.isnull().sum()"
      ],
      "execution_count": 20,
      "outputs": [
        {
          "output_type": "execute_result",
          "data": {
            "text/plain": [
              "Pclass        0\n",
              "Sex           0\n",
              "Age         263\n",
              "SibSp         0\n",
              "Parch         0\n",
              "Fare          1\n",
              "Embarked      2\n",
              "dtype: int64"
            ]
          },
          "metadata": {
            "tags": []
          },
          "execution_count": 20
        }
      ]
    },
    {
      "cell_type": "markdown",
      "metadata": {
        "id": "6Ohjk4wGEdfJ",
        "colab_type": "text"
      },
      "source": [
        "Podemos perceber pela imagem acima que a maior quantidade de dados faltantes está presente na variável `Age` e, como visto anteriormente, essa coluna também possui outliers. As colunas `Fare` e `Embarked` também apresentam valores faltantes, mas insignificantes, em quantidade, quando comparados à variável `Age`.\n",
        "\n",
        "Neste trabalho, serão utilizados os valores das medianas para substituir os dados ausentes das variáveis **Age** e **Fare**, enquanto para **Embarked** será usado o valor mais frequente."
      ]
    },
    {
      "cell_type": "code",
      "metadata": {
        "id": "98wmxLvJDvrj",
        "colab_type": "code",
        "colab": {}
      },
      "source": [
        "# MEDIANA DA COLUNA 'AGE'\n",
        "\n",
        "Age_mediana = df_total['Age'].median()\n",
        "df_total['Age'].fillna(Age_mediana, inplace = True)\n",
        "\n",
        "# MEDIANA DA COLUNA 'FARE'\n",
        "\n",
        "Fare_mediana = df_total['Fare'].median()\n",
        "df_total['Fare'].fillna(Fare_mediana, inplace = True)\n",
        "\n",
        "# VERIFICANDO O VALOR MAIS FREQUENTE DA COLUNA 'EMBARKED'\n",
        "\n",
        "df_total['Embarked'].mode()\n",
        "\n",
        "# SUBSTITUINDO O VALOR\n",
        "\n",
        "df_total['Embarked'].fillna('S', inplace = True)"
      ],
      "execution_count": 21,
      "outputs": []
    },
    {
      "cell_type": "code",
      "metadata": {
        "id": "vnlFZwswSl20",
        "colab_type": "code",
        "colab": {
          "base_uri": "https://localhost:8080/",
          "height": 153
        },
        "outputId": "8ce46744-2447-439f-ff1c-9c76f54405e6"
      },
      "source": [
        "# VERIFICANDO O RESULTADO DAS SUBSTITUIÇÕES\n",
        "\n",
        "df_total.isnull().sum()"
      ],
      "execution_count": 22,
      "outputs": [
        {
          "output_type": "execute_result",
          "data": {
            "text/plain": [
              "Pclass      0\n",
              "Sex         0\n",
              "Age         0\n",
              "SibSp       0\n",
              "Parch       0\n",
              "Fare        0\n",
              "Embarked    0\n",
              "dtype: int64"
            ]
          },
          "metadata": {
            "tags": []
          },
          "execution_count": 22
        }
      ]
    },
    {
      "cell_type": "markdown",
      "metadata": {
        "id": "ZU4J0ZRH3RyZ",
        "colab_type": "text"
      },
      "source": [
        "**Ajustando as Variáveis para o Modelo**\n",
        "\n",
        "Após tratar os dados ausentes, o tratamento dos dados está praticamente concluído. Agora, é preciso converter os dados que irão alimentar o modelo de categóricos para numéricos.\n",
        "\n",
        "Neste caso, as variável 'Sex' e 'Embarked' serão convertidas para valores numéricos."
      ]
    },
    {
      "cell_type": "code",
      "metadata": {
        "id": "-bDmCzIWVXcV",
        "colab_type": "code",
        "colab": {}
      },
      "source": [
        "# TRANSFORMANDO AS VARIÁVEIS PARA NUMÉRICAS\n",
        "\n",
        "df_total['Sex'] = df_total['Sex'].map({'male' : 1, 'female' : 0})\n",
        "\n",
        "df_total['Embarked'] = df_total['Embarked'].astype('category')\n",
        "df_total['Embarked'] = df_total['Embarked'].cat.codes"
      ],
      "execution_count": 23,
      "outputs": []
    },
    {
      "cell_type": "code",
      "metadata": {
        "id": "NcZJgM3627Ij",
        "colab_type": "code",
        "colab": {
          "base_uri": "https://localhost:8080/",
          "height": 204
        },
        "outputId": "37af3648-36d1-4989-8731-d603d52d9ec5"
      },
      "source": [
        "# VISUALIZANDO O RESUTLADO\n",
        "\n",
        "df_total.head()"
      ],
      "execution_count": 38,
      "outputs": [
        {
          "output_type": "execute_result",
          "data": {
            "text/html": [
              "<div>\n",
              "<style scoped>\n",
              "    .dataframe tbody tr th:only-of-type {\n",
              "        vertical-align: middle;\n",
              "    }\n",
              "\n",
              "    .dataframe tbody tr th {\n",
              "        vertical-align: top;\n",
              "    }\n",
              "\n",
              "    .dataframe thead th {\n",
              "        text-align: right;\n",
              "    }\n",
              "</style>\n",
              "<table border=\"1\" class=\"dataframe\">\n",
              "  <thead>\n",
              "    <tr style=\"text-align: right;\">\n",
              "      <th></th>\n",
              "      <th>Pclass</th>\n",
              "      <th>Sex</th>\n",
              "      <th>Age</th>\n",
              "      <th>SibSp</th>\n",
              "      <th>Parch</th>\n",
              "      <th>Fare</th>\n",
              "      <th>Embarked</th>\n",
              "    </tr>\n",
              "  </thead>\n",
              "  <tbody>\n",
              "    <tr>\n",
              "      <th>0</th>\n",
              "      <td>3</td>\n",
              "      <td>1</td>\n",
              "      <td>22.0</td>\n",
              "      <td>1</td>\n",
              "      <td>0</td>\n",
              "      <td>7.2500</td>\n",
              "      <td>2</td>\n",
              "    </tr>\n",
              "    <tr>\n",
              "      <th>1</th>\n",
              "      <td>1</td>\n",
              "      <td>0</td>\n",
              "      <td>38.0</td>\n",
              "      <td>1</td>\n",
              "      <td>0</td>\n",
              "      <td>71.2833</td>\n",
              "      <td>0</td>\n",
              "    </tr>\n",
              "    <tr>\n",
              "      <th>2</th>\n",
              "      <td>3</td>\n",
              "      <td>0</td>\n",
              "      <td>26.0</td>\n",
              "      <td>0</td>\n",
              "      <td>0</td>\n",
              "      <td>7.9250</td>\n",
              "      <td>2</td>\n",
              "    </tr>\n",
              "    <tr>\n",
              "      <th>3</th>\n",
              "      <td>1</td>\n",
              "      <td>0</td>\n",
              "      <td>35.0</td>\n",
              "      <td>1</td>\n",
              "      <td>0</td>\n",
              "      <td>53.1000</td>\n",
              "      <td>2</td>\n",
              "    </tr>\n",
              "    <tr>\n",
              "      <th>4</th>\n",
              "      <td>3</td>\n",
              "      <td>1</td>\n",
              "      <td>35.0</td>\n",
              "      <td>0</td>\n",
              "      <td>0</td>\n",
              "      <td>8.0500</td>\n",
              "      <td>2</td>\n",
              "    </tr>\n",
              "  </tbody>\n",
              "</table>\n",
              "</div>"
            ],
            "text/plain": [
              "   Pclass  Sex   Age  SibSp  Parch     Fare  Embarked\n",
              "0       3    1  22.0      1      0   7.2500         2\n",
              "1       1    0  38.0      1      0  71.2833         0\n",
              "2       3    0  26.0      0      0   7.9250         2\n",
              "3       1    0  35.0      1      0  53.1000         2\n",
              "4       3    1  35.0      0      0   8.0500         2"
            ]
          },
          "metadata": {
            "tags": []
          },
          "execution_count": 38
        }
      ]
    },
    {
      "cell_type": "markdown",
      "metadata": {
        "id": "AMsYG55A4JK2",
        "colab_type": "text"
      },
      "source": [
        "Outra opção seria tratar as variáveis usando o One Hot Encoding do Scikit-learn para converter as variáveis para numéricas.\n"
      ]
    },
    {
      "cell_type": "markdown",
      "metadata": {
        "id": "zOar1Tte5y5q",
        "colab_type": "text"
      },
      "source": [
        "**Recuperando os Conjuntos de Treino e Teste**\n",
        "\n",
        "Depois de aplicar as devidas alterações nos conjuntos de dados, podemos separá-los novamente e obter os dados de treino e teste a partir do índice que salvamos no início, treino_ID e teste_ID."
      ]
    },
    {
      "cell_type": "code",
      "metadata": {
        "id": "5-7toBHh3wrM",
        "colab_type": "code",
        "colab": {}
      },
      "source": [
        "# SEPARANDO OS CONJUNTOS DE DADOS\n",
        "\n",
        "treino = df_total.iloc[:treino_ID]\n",
        "\n",
        "teste = df_total.iloc[treino_ID:]"
      ],
      "execution_count": 25,
      "outputs": []
    },
    {
      "cell_type": "code",
      "metadata": {
        "id": "WF3yrHkr6hhW",
        "colab_type": "code",
        "colab": {
          "base_uri": "https://localhost:8080/",
          "height": 391
        },
        "outputId": "164facee-4935-484c-830b-2f359749425d"
      },
      "source": [
        "# VISUALIZANDO RESULTADOS\n",
        "\n",
        "display(treino.head())\n",
        "\n",
        "display(teste.head())"
      ],
      "execution_count": 26,
      "outputs": [
        {
          "output_type": "display_data",
          "data": {
            "text/html": [
              "<div>\n",
              "<style scoped>\n",
              "    .dataframe tbody tr th:only-of-type {\n",
              "        vertical-align: middle;\n",
              "    }\n",
              "\n",
              "    .dataframe tbody tr th {\n",
              "        vertical-align: top;\n",
              "    }\n",
              "\n",
              "    .dataframe thead th {\n",
              "        text-align: right;\n",
              "    }\n",
              "</style>\n",
              "<table border=\"1\" class=\"dataframe\">\n",
              "  <thead>\n",
              "    <tr style=\"text-align: right;\">\n",
              "      <th></th>\n",
              "      <th>Pclass</th>\n",
              "      <th>Sex</th>\n",
              "      <th>Age</th>\n",
              "      <th>SibSp</th>\n",
              "      <th>Parch</th>\n",
              "      <th>Fare</th>\n",
              "      <th>Embarked</th>\n",
              "    </tr>\n",
              "  </thead>\n",
              "  <tbody>\n",
              "    <tr>\n",
              "      <th>0</th>\n",
              "      <td>3</td>\n",
              "      <td>1</td>\n",
              "      <td>22.0</td>\n",
              "      <td>1</td>\n",
              "      <td>0</td>\n",
              "      <td>7.2500</td>\n",
              "      <td>2</td>\n",
              "    </tr>\n",
              "    <tr>\n",
              "      <th>1</th>\n",
              "      <td>1</td>\n",
              "      <td>0</td>\n",
              "      <td>38.0</td>\n",
              "      <td>1</td>\n",
              "      <td>0</td>\n",
              "      <td>71.2833</td>\n",
              "      <td>0</td>\n",
              "    </tr>\n",
              "    <tr>\n",
              "      <th>2</th>\n",
              "      <td>3</td>\n",
              "      <td>0</td>\n",
              "      <td>26.0</td>\n",
              "      <td>0</td>\n",
              "      <td>0</td>\n",
              "      <td>7.9250</td>\n",
              "      <td>2</td>\n",
              "    </tr>\n",
              "    <tr>\n",
              "      <th>3</th>\n",
              "      <td>1</td>\n",
              "      <td>0</td>\n",
              "      <td>35.0</td>\n",
              "      <td>1</td>\n",
              "      <td>0</td>\n",
              "      <td>53.1000</td>\n",
              "      <td>2</td>\n",
              "    </tr>\n",
              "    <tr>\n",
              "      <th>4</th>\n",
              "      <td>3</td>\n",
              "      <td>1</td>\n",
              "      <td>35.0</td>\n",
              "      <td>0</td>\n",
              "      <td>0</td>\n",
              "      <td>8.0500</td>\n",
              "      <td>2</td>\n",
              "    </tr>\n",
              "  </tbody>\n",
              "</table>\n",
              "</div>"
            ],
            "text/plain": [
              "   Pclass  Sex   Age  SibSp  Parch     Fare  Embarked\n",
              "0       3    1  22.0      1      0   7.2500         2\n",
              "1       1    0  38.0      1      0  71.2833         0\n",
              "2       3    0  26.0      0      0   7.9250         2\n",
              "3       1    0  35.0      1      0  53.1000         2\n",
              "4       3    1  35.0      0      0   8.0500         2"
            ]
          },
          "metadata": {
            "tags": []
          }
        },
        {
          "output_type": "display_data",
          "data": {
            "text/html": [
              "<div>\n",
              "<style scoped>\n",
              "    .dataframe tbody tr th:only-of-type {\n",
              "        vertical-align: middle;\n",
              "    }\n",
              "\n",
              "    .dataframe tbody tr th {\n",
              "        vertical-align: top;\n",
              "    }\n",
              "\n",
              "    .dataframe thead th {\n",
              "        text-align: right;\n",
              "    }\n",
              "</style>\n",
              "<table border=\"1\" class=\"dataframe\">\n",
              "  <thead>\n",
              "    <tr style=\"text-align: right;\">\n",
              "      <th></th>\n",
              "      <th>Pclass</th>\n",
              "      <th>Sex</th>\n",
              "      <th>Age</th>\n",
              "      <th>SibSp</th>\n",
              "      <th>Parch</th>\n",
              "      <th>Fare</th>\n",
              "      <th>Embarked</th>\n",
              "    </tr>\n",
              "  </thead>\n",
              "  <tbody>\n",
              "    <tr>\n",
              "      <th>891</th>\n",
              "      <td>3</td>\n",
              "      <td>1</td>\n",
              "      <td>34.5</td>\n",
              "      <td>0</td>\n",
              "      <td>0</td>\n",
              "      <td>7.8292</td>\n",
              "      <td>1</td>\n",
              "    </tr>\n",
              "    <tr>\n",
              "      <th>892</th>\n",
              "      <td>3</td>\n",
              "      <td>0</td>\n",
              "      <td>47.0</td>\n",
              "      <td>1</td>\n",
              "      <td>0</td>\n",
              "      <td>7.0000</td>\n",
              "      <td>2</td>\n",
              "    </tr>\n",
              "    <tr>\n",
              "      <th>893</th>\n",
              "      <td>2</td>\n",
              "      <td>1</td>\n",
              "      <td>62.0</td>\n",
              "      <td>0</td>\n",
              "      <td>0</td>\n",
              "      <td>9.6875</td>\n",
              "      <td>1</td>\n",
              "    </tr>\n",
              "    <tr>\n",
              "      <th>894</th>\n",
              "      <td>3</td>\n",
              "      <td>1</td>\n",
              "      <td>27.0</td>\n",
              "      <td>0</td>\n",
              "      <td>0</td>\n",
              "      <td>8.6625</td>\n",
              "      <td>2</td>\n",
              "    </tr>\n",
              "    <tr>\n",
              "      <th>895</th>\n",
              "      <td>3</td>\n",
              "      <td>0</td>\n",
              "      <td>22.0</td>\n",
              "      <td>1</td>\n",
              "      <td>1</td>\n",
              "      <td>12.2875</td>\n",
              "      <td>2</td>\n",
              "    </tr>\n",
              "  </tbody>\n",
              "</table>\n",
              "</div>"
            ],
            "text/plain": [
              "     Pclass  Sex   Age  SibSp  Parch     Fare  Embarked\n",
              "891       3    1  34.5      0      0   7.8292         1\n",
              "892       3    0  47.0      1      0   7.0000         2\n",
              "893       2    1  62.0      0      0   9.6875         1\n",
              "894       3    1  27.0      0      0   8.6625         2\n",
              "895       3    0  22.0      1      1  12.2875         2"
            ]
          },
          "metadata": {
            "tags": []
          }
        }
      ]
    },
    {
      "cell_type": "markdown",
      "metadata": {
        "id": "n0LtfYwd73q8",
        "colab_type": "text"
      },
      "source": [
        "**Implementação do Modelo**\n",
        "\n",
        "Esta etapa costuma ser mais rápida de ser realizada, justamente porque a maior parte do tempo foi investido na análise exploratória e tratamento dos dados. Outro fator, é que a implementação dos modelos de machine learning são muito automatizados, sendo necessário apenas algumas linhas de código para treinar, testar e avaliar o modelo.\n",
        "\n",
        "Como citado anteriormente, serão implementados os modelos de Regressão Logística, Árvore de Decisão e Máquina de Vetor de Suporte (SVM). Para esta finalidade, será utilizada a biblioteca Scikit-Learn."
      ]
    },
    {
      "cell_type": "markdown",
      "metadata": {
        "id": "7iC5hiZb60EN",
        "colab_type": "text"
      },
      "source": [
        "### **Regressão Logística**"
      ]
    },
    {
      "cell_type": "code",
      "metadata": {
        "id": "iz3lfsLS7QG7",
        "colab_type": "code",
        "colab": {
          "base_uri": "https://localhost:8080/",
          "height": 102
        },
        "outputId": "6ddb4247-48a3-4f52-e452-d962d5570565"
      },
      "source": [
        "# IMPORTAÇÃO DO MODELO\n",
        "\n",
        "from sklearn.linear_model import LogisticRegression\n",
        "\n",
        "# INSTANCIANDO O MODELO\n",
        "\n",
        "LR_model = LogisticRegression(solver = 'liblinear')\n",
        "\n",
        "# TREINANDO O MODELO\n",
        "\n",
        "LR_model.fit(treino, target)"
      ],
      "execution_count": 27,
      "outputs": [
        {
          "output_type": "execute_result",
          "data": {
            "text/plain": [
              "LogisticRegression(C=1.0, class_weight=None, dual=False, fit_intercept=True,\n",
              "                   intercept_scaling=1, l1_ratio=None, max_iter=100,\n",
              "                   multi_class='auto', n_jobs=None, penalty='l2',\n",
              "                   random_state=None, solver='liblinear', tol=0.0001, verbose=0,\n",
              "                   warm_start=False)"
            ]
          },
          "metadata": {
            "tags": []
          },
          "execution_count": 27
        }
      ]
    },
    {
      "cell_type": "code",
      "metadata": {
        "id": "syw3hEH480aX",
        "colab_type": "code",
        "colab": {}
      },
      "source": [
        "# PREDIÇÃO DO MODELO\n",
        "\n",
        "y_pred_LR = LR_model.predict(teste)"
      ],
      "execution_count": 28,
      "outputs": []
    },
    {
      "cell_type": "markdown",
      "metadata": {
        "id": "8g0IkEZp9VQu",
        "colab_type": "text"
      },
      "source": [
        "**Avaliação**"
      ]
    },
    {
      "cell_type": "code",
      "metadata": {
        "id": "bDgLqHb3C05t",
        "colab_type": "code",
        "colab": {
          "base_uri": "https://localhost:8080/",
          "height": 34
        },
        "outputId": "856177f6-5adc-40a6-f59c-2517eafe0888"
      },
      "source": [
        "# ACURÁCIA DO MODELO\n",
        "\n",
        "acc_logReg = round(LR_model.score(treino, target)*100, 2)\n",
        "\n",
        "print('Acurácia RL: ', acc_logReg)"
      ],
      "execution_count": 29,
      "outputs": [
        {
          "output_type": "stream",
          "text": [
            "Acurácia RL:  80.36\n"
          ],
          "name": "stdout"
        }
      ]
    },
    {
      "cell_type": "markdown",
      "metadata": {
        "id": "Dz6Zb4wx66_k",
        "colab_type": "text"
      },
      "source": [
        "### **Árvore de Decisão**"
      ]
    },
    {
      "cell_type": "code",
      "metadata": {
        "id": "Hso1dlqf69q4",
        "colab_type": "code",
        "colab": {
          "base_uri": "https://localhost:8080/",
          "height": 119
        },
        "outputId": "7de5c6a2-7937-4870-cf1f-5e115545ff2c"
      },
      "source": [
        "# IMPORTAÇÃO DO MODELO\n",
        "\n",
        "from sklearn.tree import DecisionTreeClassifier\n",
        "\n",
        "# INSTANCIANDO O MODELO\n",
        "\n",
        "DT_model = DecisionTreeClassifier(max_depth = 3)\n",
        "\n",
        "# TREINANDO O MODELO\n",
        "\n",
        "DT_model.fit(treino, target)"
      ],
      "execution_count": 30,
      "outputs": [
        {
          "output_type": "execute_result",
          "data": {
            "text/plain": [
              "DecisionTreeClassifier(ccp_alpha=0.0, class_weight=None, criterion='gini',\n",
              "                       max_depth=3, max_features=None, max_leaf_nodes=None,\n",
              "                       min_impurity_decrease=0.0, min_impurity_split=None,\n",
              "                       min_samples_leaf=1, min_samples_split=2,\n",
              "                       min_weight_fraction_leaf=0.0, presort='deprecated',\n",
              "                       random_state=None, splitter='best')"
            ]
          },
          "metadata": {
            "tags": []
          },
          "execution_count": 30
        }
      ]
    },
    {
      "cell_type": "code",
      "metadata": {
        "id": "uU-KWhlMKtcK",
        "colab_type": "code",
        "colab": {}
      },
      "source": [
        "# PREDIÇÃO DO MODELO\n",
        "\n",
        "y_pred_DT = DT_model.predict(teste)"
      ],
      "execution_count": 31,
      "outputs": []
    },
    {
      "cell_type": "markdown",
      "metadata": {
        "id": "MucHUAcR_iKN",
        "colab_type": "text"
      },
      "source": [
        "**Avaliação**"
      ]
    },
    {
      "cell_type": "code",
      "metadata": {
        "id": "0x0b1fD1KN4j",
        "colab_type": "code",
        "colab": {
          "base_uri": "https://localhost:8080/",
          "height": 34
        },
        "outputId": "80a9d96b-0e9f-4d2f-c328-0d81a4566098"
      },
      "source": [
        "# ACURÁCIA DO MODELO\n",
        "\n",
        "acc_tree = round(DT_model.score(treino, target)*100, 2)\n",
        "\n",
        "print('Acurácia DT: ', acc_tree)"
      ],
      "execution_count": 32,
      "outputs": [
        {
          "output_type": "stream",
          "text": [
            "Acurácia DT:  82.72\n"
          ],
          "name": "stdout"
        }
      ]
    },
    {
      "cell_type": "markdown",
      "metadata": {
        "id": "i5Lj3Bwe6-bp",
        "colab_type": "text"
      },
      "source": [
        "### **Máquina de Vetor de Suporte**"
      ]
    },
    {
      "cell_type": "code",
      "metadata": {
        "id": "HGNWkp8P7F0A",
        "colab_type": "code",
        "colab": {
          "base_uri": "https://localhost:8080/",
          "height": 85
        },
        "outputId": "0b774d36-400e-4eee-84c6-22cd2827a7a0"
      },
      "source": [
        "# IMPORTAÇÃO DO MODELO\n",
        "\n",
        "from sklearn import svm\n",
        "\n",
        "# INSTANCIANDO O MODELO\n",
        "\n",
        "SVM_model = svm.SVC(C = 1, kernel = 'linear')\n",
        "\n",
        "# TREINAMENTO DO MODELO\n",
        "\n",
        "SVM_model.fit(treino, target)"
      ],
      "execution_count": 33,
      "outputs": [
        {
          "output_type": "execute_result",
          "data": {
            "text/plain": [
              "SVC(C=1, break_ties=False, cache_size=200, class_weight=None, coef0=0.0,\n",
              "    decision_function_shape='ovr', degree=3, gamma='scale', kernel='linear',\n",
              "    max_iter=-1, probability=False, random_state=None, shrinking=True,\n",
              "    tol=0.001, verbose=False)"
            ]
          },
          "metadata": {
            "tags": []
          },
          "execution_count": 33
        }
      ]
    },
    {
      "cell_type": "markdown",
      "metadata": {
        "id": "ltoq0sKt_euI",
        "colab_type": "text"
      },
      "source": [
        "**Avaliação**"
      ]
    },
    {
      "cell_type": "code",
      "metadata": {
        "id": "XQ_SFY_0AE3e",
        "colab_type": "code",
        "colab": {
          "base_uri": "https://localhost:8080/",
          "height": 34
        },
        "outputId": "f8cc5881-97cf-4d23-ed88-790897aef1ee"
      },
      "source": [
        "# ACURÁCIA DO MODELO\n",
        "\n",
        "acc_svm = round(SVM_model.score(treino, target)*100, 2)\n",
        "\n",
        "print('Acurácia DT: ', acc_svm)"
      ],
      "execution_count": 34,
      "outputs": [
        {
          "output_type": "stream",
          "text": [
            "Acurácia DT:  78.68\n"
          ],
          "name": "stdout"
        }
      ]
    },
    {
      "cell_type": "code",
      "metadata": {
        "id": "xmW3IgsWBdOC",
        "colab_type": "code",
        "colab": {}
      },
      "source": [
        "y_pred_SVM = SVM_model.predict(teste)"
      ],
      "execution_count": 35,
      "outputs": []
    },
    {
      "cell_type": "markdown",
      "metadata": {
        "id": "unUwfavIAv-t",
        "colab_type": "text"
      },
      "source": [
        "### **Submissão dos Resultados na Plataforma Kaggle**"
      ]
    },
    {
      "cell_type": "markdown",
      "metadata": {
        "id": "rnArwZYcMtrF",
        "colab_type": "text"
      },
      "source": [
        "A última etapa do projeto é submetir as previsões de cada modelo no Kaggle e ver o desempenho.\n",
        "\n",
        "Para isso, precisamos gerar os arquivos de submissão."
      ]
    },
    {
      "cell_type": "code",
      "metadata": {
        "id": "GfTrZaqsMc87",
        "colab_type": "code",
        "colab": {}
      },
      "source": [
        "# REGRESSÃO LOGÍSTICA\n",
        "\n",
        "submission = pd.DataFrame({'PassengerID': Passenger_ID, 'Survived': y_pred_LR})\n",
        "\n",
        "submission.to_csv('./submission_LR.csv', index = False)\n",
        "\n",
        "# ÁRVORE DE DECISÃO\n",
        "\n",
        "submission = pd.DataFrame({'PassengerID': Passenger_ID, 'Survived': y_pred_DT})\n",
        "\n",
        "submission.to_csv('./submission_DT.csv', index = False)\n",
        "\n",
        "# MÁQUINA DE VETOR DE SUPORTE - SVM\n",
        "\n",
        "submission = pd.DataFrame({'PassengerID': Passenger_ID, 'Survived': y_pred_SVM})\n",
        "\n",
        "submission.to_csv('./submission_SVM.csv', index = False)\n"
      ],
      "execution_count": 36,
      "outputs": []
    },
    {
      "cell_type": "markdown",
      "metadata": {
        "id": "TfmpjbYZp2Zp",
        "colab_type": "text"
      },
      "source": [
        "O modelo que apresentou o melhor resultado quando submetido ao Kaggle foi o de Árvore de Decisão, com score igual a 0,77511.\n",
        "\n",
        "É importante ressaltar que este foram modelos iniciais e que várias alterações podem ser feitas para melhorar os modelos."
      ]
    }
  ]
}