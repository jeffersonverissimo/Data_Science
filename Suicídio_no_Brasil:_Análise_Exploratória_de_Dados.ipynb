{
  "nbformat": 4,
  "nbformat_minor": 0,
  "metadata": {
    "colab": {
      "name": "Suicídio no Brasil: Análise Exploratória de Dados",
      "provenance": [],
      "authorship_tag": "ABX9TyP6Si7LIUNDNzGvdrFID3WH"
    },
    "kernelspec": {
      "name": "python3",
      "display_name": "Python 3"
    }
  },
  "cells": [
    {
      "cell_type": "markdown",
      "metadata": {
        "id": "ipflCtF48-9Z",
        "colab_type": "text"
      },
      "source": [
        "![texto do link](https://www.unifacs.br/wp-content/uploads/2019/09/Imagem_Site_setembroamarelo-1620x1080.png)"
      ]
    },
    {
      "cell_type": "markdown",
      "metadata": {
        "id": "0bbWoHMj9TBy",
        "colab_type": "text"
      },
      "source": [
        "---\n",
        "\n",
        "# **SUICÍDIO NO BRASIL: ANÁLISE EXPLORATÓRIA DE DADOS**\n",
        "\n",
        "---\n",
        "---\n",
        "Última atualização em 14 setembro de 2020\n",
        "\n",
        "---\n",
        "\n",
        "De acordo com a Organização Mundial da Saúde (OMS), a cada 40 segundos, uma pessoa comete suicídio no mundo. Já as tentativas de suicídio são estimadas em 20 vezes a de suicídios consumados, ou uma tentativa a cada 2 segundos.\n",
        "\n",
        "Entre jovens de 15 a 19 anos, o suicídio aparece como segunda principal causa de mortes entre as meninas, após as complicações na gravidez, e a terceira entre meninos, depois de acidentes de trânsito e violência.\n",
        "\n",
        "Este triste cenário registra cada vez mais casos, especialmente entre os jovens, e esses números alarmantes leva o suicídio a ser considerado um problema de saúde pública.\n",
        "\n",
        "No Brasil, dados do ano de 2016 divulgados pela OMS, mostram que os a taxa de suicídios a cada 100 mil habitantes aumentou 7% no Brasil, ao contrário do índice mundial, que caiu 9,8%.\n",
        "\n",
        "**Principais Fatores do Suicídio**\n",
        "\n",
        "Segundo a OMS, conforme citado por Lovisi (2009), os principais fatores associados ao suicídio são:\n",
        "* Tentativas anteriores de suicídio;\n",
        "* Doenças mentais (principalmente depressão e abuso/dependência de álcool e drogas);\n",
        "* Ausência de apoio social, histórico de suicídio na família;\n",
        "* Eventos estressantes e características sociodemográficas.\n",
        "\n",
        "**Quem está em Risco?**\n",
        "\n",
        "Apesar da relação direta entre o distúrbios suicidas e transtornos mentais, em diversos casos os suicídios ocorrem de forma impulsiva em momento de crise, com um colapso na capacidade de lidar com os estresses da vida.\n",
        "\n",
        "Além disso, de acordo com a Organização Pan-Americana da Saúde, as taxas de suicídio também são elevadas em grupos vulneráveis que sofrem discriminação, como refugiados e migrantes; indígenas; lésbicas, gays, bissexuais, transgêneros e intersexuais (LGBTI); e pessoas privadas de liberdade."
      ]
    },
    {
      "cell_type": "markdown",
      "metadata": {
        "id": "jzjhzzfn96oi",
        "colab_type": "text"
      },
      "source": [
        "### **Proposta deste Projeto**\n",
        "\n",
        "O objetivo deste trabalho é realizar análises exploratórias no conjunto de dados sobre suicídio, a fim de entender o comportamento dos dados em todo o mundo e, especialmente, no Brasil.\n",
        "\n",
        "Escrevi o presente artigo na esperança de oferecer a minha pequena contribuição para ajudar nessa causa de tamanha importância e que requer a atenção e o engajamento de todos."
      ]
    },
    {
      "cell_type": "markdown",
      "metadata": {
        "id": "WMs20ubj6PwI",
        "colab_type": "text"
      },
      "source": [
        "### **Obtenção dos Dados**\n",
        "\n",
        "O conjunto de dados utilizado neste projeto está hospedado na plataforma Kaggle. Se trata de um dataset composto por dados sobre os casos de suicídios registrados entre os anos de 1985 a 2016.\n",
        "Você pode conferir a descrição completa do conjunto de dados e baixá-lo clicando [aqui](https://www.kaggle.com/russellyates88/suicide-rates-overview-1985-to-2016)."
      ]
    },
    {
      "cell_type": "code",
      "metadata": {
        "id": "iWZ-8xqOvUsD",
        "colab_type": "code",
        "colab": {
          "base_uri": "https://localhost:8080/",
          "height": 71
        },
        "outputId": "7497642e-eee6-42be-8d70-6372c0960496"
      },
      "source": [
        "# IMPORTAÇÃO DAS BIBLIOTECAS\n",
        "\n",
        "import pandas as pd\n",
        "import matplotlib.pyplot as plt\n",
        "%matplotlib inline\n",
        "\n",
        "import seaborn as sns\n",
        "sns.set(style = 'dark')"
      ],
      "execution_count": 1,
      "outputs": [
        {
          "output_type": "stream",
          "text": [
            "/usr/local/lib/python3.6/dist-packages/statsmodels/tools/_testing.py:19: FutureWarning: pandas.util.testing is deprecated. Use the functions in the public API at pandas.testing instead.\n",
            "  import pandas.util.testing as tm\n"
          ],
          "name": "stderr"
        }
      ]
    },
    {
      "cell_type": "code",
      "metadata": {
        "id": "ct2chnvrBGf1",
        "colab_type": "code",
        "colab": {}
      },
      "source": [
        "# AQUISIÇÃO DOS DADOS\n",
        "\n",
        "df = pd.read_csv('https://raw.githubusercontent.com/jeffersonverissimo/datasets/master/master.csv')"
      ],
      "execution_count": 2,
      "outputs": []
    },
    {
      "cell_type": "markdown",
      "metadata": {
        "id": "RQWlypwT6fi3",
        "colab_type": "text"
      },
      "source": [
        "### **Análise Exploratória**\n",
        "\n",
        "Apesar do dataset conter dados de vários países, o presente artigo irá focar na análise em relação ao Brasil e, em alguns casos, fazendo comparações com os demais países.\n",
        "\n",
        "É importante ressaltar que o criador do conjunto de dados aplicou tratamentos que facilitará muito a exploração dos dados.\n",
        "Algumas das informações que podem ser extraídas do dataset inicialmente são:\n",
        "\n",
        "* Tamanho do conjunto de dados;\n",
        "* Tipos de variáveis (categórica, numérica, etc);\n",
        "* Valores ausentes;\n",
        "* Distribuição estatística, etc;\n",
        "\n"
      ]
    },
    {
      "cell_type": "code",
      "metadata": {
        "id": "pLJjKPD1Bn9C",
        "colab_type": "code",
        "colab": {
          "base_uri": "https://localhost:8080/",
          "height": 306
        },
        "outputId": "e925bff6-a440-4b94-d1a8-480bb8491ba6"
      },
      "source": [
        "# VISUALIZANDO AS PRIMEIRAS 5 LINHAS DO DATASET\n",
        "\n",
        "df.head()"
      ],
      "execution_count": 3,
      "outputs": [
        {
          "output_type": "execute_result",
          "data": {
            "text/html": [
              "<div>\n",
              "<style scoped>\n",
              "    .dataframe tbody tr th:only-of-type {\n",
              "        vertical-align: middle;\n",
              "    }\n",
              "\n",
              "    .dataframe tbody tr th {\n",
              "        vertical-align: top;\n",
              "    }\n",
              "\n",
              "    .dataframe thead th {\n",
              "        text-align: right;\n",
              "    }\n",
              "</style>\n",
              "<table border=\"1\" class=\"dataframe\">\n",
              "  <thead>\n",
              "    <tr style=\"text-align: right;\">\n",
              "      <th></th>\n",
              "      <th>country</th>\n",
              "      <th>year</th>\n",
              "      <th>sex</th>\n",
              "      <th>age</th>\n",
              "      <th>suicides_no</th>\n",
              "      <th>population</th>\n",
              "      <th>suicides/100k pop</th>\n",
              "      <th>country-year</th>\n",
              "      <th>HDI for year</th>\n",
              "      <th>gdp_for_year ($)</th>\n",
              "      <th>gdp_per_capita ($)</th>\n",
              "      <th>generation</th>\n",
              "    </tr>\n",
              "  </thead>\n",
              "  <tbody>\n",
              "    <tr>\n",
              "      <th>0</th>\n",
              "      <td>Albania</td>\n",
              "      <td>1987</td>\n",
              "      <td>male</td>\n",
              "      <td>15-24 years</td>\n",
              "      <td>21</td>\n",
              "      <td>312900</td>\n",
              "      <td>6.71</td>\n",
              "      <td>Albania1987</td>\n",
              "      <td>NaN</td>\n",
              "      <td>2,156,624,900</td>\n",
              "      <td>796</td>\n",
              "      <td>Generation X</td>\n",
              "    </tr>\n",
              "    <tr>\n",
              "      <th>1</th>\n",
              "      <td>Albania</td>\n",
              "      <td>1987</td>\n",
              "      <td>male</td>\n",
              "      <td>35-54 years</td>\n",
              "      <td>16</td>\n",
              "      <td>308000</td>\n",
              "      <td>5.19</td>\n",
              "      <td>Albania1987</td>\n",
              "      <td>NaN</td>\n",
              "      <td>2,156,624,900</td>\n",
              "      <td>796</td>\n",
              "      <td>Silent</td>\n",
              "    </tr>\n",
              "    <tr>\n",
              "      <th>2</th>\n",
              "      <td>Albania</td>\n",
              "      <td>1987</td>\n",
              "      <td>female</td>\n",
              "      <td>15-24 years</td>\n",
              "      <td>14</td>\n",
              "      <td>289700</td>\n",
              "      <td>4.83</td>\n",
              "      <td>Albania1987</td>\n",
              "      <td>NaN</td>\n",
              "      <td>2,156,624,900</td>\n",
              "      <td>796</td>\n",
              "      <td>Generation X</td>\n",
              "    </tr>\n",
              "    <tr>\n",
              "      <th>3</th>\n",
              "      <td>Albania</td>\n",
              "      <td>1987</td>\n",
              "      <td>male</td>\n",
              "      <td>75+ years</td>\n",
              "      <td>1</td>\n",
              "      <td>21800</td>\n",
              "      <td>4.59</td>\n",
              "      <td>Albania1987</td>\n",
              "      <td>NaN</td>\n",
              "      <td>2,156,624,900</td>\n",
              "      <td>796</td>\n",
              "      <td>G.I. Generation</td>\n",
              "    </tr>\n",
              "    <tr>\n",
              "      <th>4</th>\n",
              "      <td>Albania</td>\n",
              "      <td>1987</td>\n",
              "      <td>male</td>\n",
              "      <td>25-34 years</td>\n",
              "      <td>9</td>\n",
              "      <td>274300</td>\n",
              "      <td>3.28</td>\n",
              "      <td>Albania1987</td>\n",
              "      <td>NaN</td>\n",
              "      <td>2,156,624,900</td>\n",
              "      <td>796</td>\n",
              "      <td>Boomers</td>\n",
              "    </tr>\n",
              "  </tbody>\n",
              "</table>\n",
              "</div>"
            ],
            "text/plain": [
              "   country  year  ... gdp_per_capita ($)       generation\n",
              "0  Albania  1987  ...                796     Generation X\n",
              "1  Albania  1987  ...                796           Silent\n",
              "2  Albania  1987  ...                796     Generation X\n",
              "3  Albania  1987  ...                796  G.I. Generation\n",
              "4  Albania  1987  ...                796          Boomers\n",
              "\n",
              "[5 rows x 12 columns]"
            ]
          },
          "metadata": {
            "tags": []
          },
          "execution_count": 3
        }
      ]
    },
    {
      "cell_type": "code",
      "metadata": {
        "id": "dXOGcgv3AXfV",
        "colab_type": "code",
        "colab": {}
      },
      "source": [
        "# RENOMEANDO AS COLUNAS\n",
        "\n",
        "df = df.rename(columns = {'country':'country','year':'year','sex':'sex','age':'age',\n",
        "                          'suicides_no':'suicides_no','population':'population',\n",
        "                          'suicides/100k pop':'suicides_per_100k_hab','country-year':'country_year',\n",
        "                          'HDI for year':'HDI_for_year',' gdp_for_year ($) ':'gdp_for_year_($)',\n",
        "                          'gdp_per_capita ($)':'gdp_per_capita_($)','generation':'generation'})"
      ],
      "execution_count": 4,
      "outputs": []
    },
    {
      "cell_type": "markdown",
      "metadata": {
        "id": "XV4d6ScL6s6g",
        "colab_type": "text"
      },
      "source": [
        "**Para nos ajudar a compreender as informações contidas no dataset, é fundamental criarmos um dicionário de variáveis, apresentando a descrição de cada uma delas.**"
      ]
    },
    {
      "cell_type": "markdown",
      "metadata": {
        "id": "31HVP-IAd6NG",
        "colab_type": "text"
      },
      "source": [
        "**Dicionário de Variáveis**\n",
        "\n",
        "* **country**: país onde os dados foram registrados (101 países)\n",
        "* **year**: ano em que os dados foram registrados (1985–2016)\n",
        "* **sex**: sexo considerado no registro\n",
        "  * male - masculino\n",
        "  * female - feminino\n",
        "* **age**: faixa etária considerada\n",
        "  * 5–14 anos\n",
        "  * 15–24 anos\n",
        "  * 25–34 anos\n",
        "  * 35–54 anos\n",
        "  * 55–74 anos\n",
        "  * 75+ anos\n",
        "* **suicides_no**: número de suicídios\n",
        "* **population**: população para o grupo\n",
        "* **suicides/100k pop**: número de suicídios por 100 mil habitantes\n",
        "* **country_year**: identificador contendo country + year\n",
        "* **HDI for year**: Índice de Desenvolvimento Humano (IDH) para o ano\n",
        "* **gdp_for_year**: Produto Interno Bruto (PIB) para o ano\n",
        "* **gdp_per_capita**: Produto Interno Bruto (PIB) per capita"
      ]
    },
    {
      "cell_type": "markdown",
      "metadata": {
        "id": "fpSY-hV-C-gO",
        "colab_type": "text"
      },
      "source": [
        "**A partir do conhecimento inicial do *dataset*, podemos extratir algumas informações básicas desse conjunto de dados.**"
      ]
    },
    {
      "cell_type": "code",
      "metadata": {
        "id": "YdM_kjRcBqoJ",
        "colab_type": "code",
        "colab": {
          "base_uri": "https://localhost:8080/",
          "height": 34
        },
        "outputId": "4f0fe569-2374-4238-c8b1-c357e9e8cfec"
      },
      "source": [
        "# TAMANHO DO CONJUNTO DE DADOS\n",
        "\n",
        "df.shape"
      ],
      "execution_count": 6,
      "outputs": [
        {
          "output_type": "execute_result",
          "data": {
            "text/plain": [
              "(27820, 12)"
            ]
          },
          "metadata": {
            "tags": []
          },
          "execution_count": 6
        }
      ]
    },
    {
      "cell_type": "code",
      "metadata": {
        "id": "mPCc-6G3DCzh",
        "colab_type": "code",
        "colab": {
          "base_uri": "https://localhost:8080/",
          "height": 238
        },
        "outputId": "a727f290-a5ec-45b1-8e1a-2b2a09ff1de0"
      },
      "source": [
        "# TIPOS DAS VARIÁVEIS\n",
        "\n",
        "df.dtypes"
      ],
      "execution_count": 7,
      "outputs": [
        {
          "output_type": "execute_result",
          "data": {
            "text/plain": [
              "country                   object\n",
              "year                       int64\n",
              "sex                       object\n",
              "age                       object\n",
              "suicides_no                int64\n",
              "population                 int64\n",
              "suicides_per_100k_hab    float64\n",
              "country_year              object\n",
              "HDI_for_year             float64\n",
              "gdp_for_year_($)          object\n",
              "gdp_per_capita_($)         int64\n",
              "generation                object\n",
              "dtype: object"
            ]
          },
          "metadata": {
            "tags": []
          },
          "execution_count": 7
        }
      ]
    },
    {
      "cell_type": "code",
      "metadata": {
        "id": "VEJahc1LFBfI",
        "colab_type": "code",
        "colab": {
          "base_uri": "https://localhost:8080/",
          "height": 238
        },
        "outputId": "99a0e581-d001-4578-89a4-0765715356c7"
      },
      "source": [
        "# VALORES AUSENTES\n",
        "\n",
        "((df.isnull().sum() / df.shape[0])*100).sort_values(ascending = False)"
      ],
      "execution_count": 8,
      "outputs": [
        {
          "output_type": "execute_result",
          "data": {
            "text/plain": [
              "HDI_for_year             69.935298\n",
              "generation                0.000000\n",
              "gdp_per_capita_($)        0.000000\n",
              "gdp_for_year_($)          0.000000\n",
              "country_year              0.000000\n",
              "suicides_per_100k_hab     0.000000\n",
              "population                0.000000\n",
              "suicides_no               0.000000\n",
              "age                       0.000000\n",
              "sex                       0.000000\n",
              "year                      0.000000\n",
              "country                   0.000000\n",
              "dtype: float64"
            ]
          },
          "metadata": {
            "tags": []
          },
          "execution_count": 8
        }
      ]
    },
    {
      "cell_type": "code",
      "metadata": {
        "id": "b37vCFujm-gc",
        "colab_type": "code",
        "colab": {
          "base_uri": "https://localhost:8080/",
          "height": 297
        },
        "outputId": "b522fadb-21d8-4c04-9a23-97002d2acf3d"
      },
      "source": [
        "df.describe()"
      ],
      "execution_count": 9,
      "outputs": [
        {
          "output_type": "execute_result",
          "data": {
            "text/html": [
              "<div>\n",
              "<style scoped>\n",
              "    .dataframe tbody tr th:only-of-type {\n",
              "        vertical-align: middle;\n",
              "    }\n",
              "\n",
              "    .dataframe tbody tr th {\n",
              "        vertical-align: top;\n",
              "    }\n",
              "\n",
              "    .dataframe thead th {\n",
              "        text-align: right;\n",
              "    }\n",
              "</style>\n",
              "<table border=\"1\" class=\"dataframe\">\n",
              "  <thead>\n",
              "    <tr style=\"text-align: right;\">\n",
              "      <th></th>\n",
              "      <th>year</th>\n",
              "      <th>suicides_no</th>\n",
              "      <th>population</th>\n",
              "      <th>suicides_per_100k_hab</th>\n",
              "      <th>HDI_for_year</th>\n",
              "      <th>gdp_per_capita_($)</th>\n",
              "    </tr>\n",
              "  </thead>\n",
              "  <tbody>\n",
              "    <tr>\n",
              "      <th>count</th>\n",
              "      <td>27820.000000</td>\n",
              "      <td>27820.000000</td>\n",
              "      <td>2.782000e+04</td>\n",
              "      <td>27820.000000</td>\n",
              "      <td>8364.000000</td>\n",
              "      <td>27820.000000</td>\n",
              "    </tr>\n",
              "    <tr>\n",
              "      <th>mean</th>\n",
              "      <td>2001.258375</td>\n",
              "      <td>242.574407</td>\n",
              "      <td>1.844794e+06</td>\n",
              "      <td>12.816097</td>\n",
              "      <td>0.776601</td>\n",
              "      <td>16866.464414</td>\n",
              "    </tr>\n",
              "    <tr>\n",
              "      <th>std</th>\n",
              "      <td>8.469055</td>\n",
              "      <td>902.047917</td>\n",
              "      <td>3.911779e+06</td>\n",
              "      <td>18.961511</td>\n",
              "      <td>0.093367</td>\n",
              "      <td>18887.576472</td>\n",
              "    </tr>\n",
              "    <tr>\n",
              "      <th>min</th>\n",
              "      <td>1985.000000</td>\n",
              "      <td>0.000000</td>\n",
              "      <td>2.780000e+02</td>\n",
              "      <td>0.000000</td>\n",
              "      <td>0.483000</td>\n",
              "      <td>251.000000</td>\n",
              "    </tr>\n",
              "    <tr>\n",
              "      <th>25%</th>\n",
              "      <td>1995.000000</td>\n",
              "      <td>3.000000</td>\n",
              "      <td>9.749850e+04</td>\n",
              "      <td>0.920000</td>\n",
              "      <td>0.713000</td>\n",
              "      <td>3447.000000</td>\n",
              "    </tr>\n",
              "    <tr>\n",
              "      <th>50%</th>\n",
              "      <td>2002.000000</td>\n",
              "      <td>25.000000</td>\n",
              "      <td>4.301500e+05</td>\n",
              "      <td>5.990000</td>\n",
              "      <td>0.779000</td>\n",
              "      <td>9372.000000</td>\n",
              "    </tr>\n",
              "    <tr>\n",
              "      <th>75%</th>\n",
              "      <td>2008.000000</td>\n",
              "      <td>131.000000</td>\n",
              "      <td>1.486143e+06</td>\n",
              "      <td>16.620000</td>\n",
              "      <td>0.855000</td>\n",
              "      <td>24874.000000</td>\n",
              "    </tr>\n",
              "    <tr>\n",
              "      <th>max</th>\n",
              "      <td>2016.000000</td>\n",
              "      <td>22338.000000</td>\n",
              "      <td>4.380521e+07</td>\n",
              "      <td>224.970000</td>\n",
              "      <td>0.944000</td>\n",
              "      <td>126352.000000</td>\n",
              "    </tr>\n",
              "  </tbody>\n",
              "</table>\n",
              "</div>"
            ],
            "text/plain": [
              "               year   suicides_no  ...  HDI_for_year  gdp_per_capita_($)\n",
              "count  27820.000000  27820.000000  ...   8364.000000        27820.000000\n",
              "mean    2001.258375    242.574407  ...      0.776601        16866.464414\n",
              "std        8.469055    902.047917  ...      0.093367        18887.576472\n",
              "min     1985.000000      0.000000  ...      0.483000          251.000000\n",
              "25%     1995.000000      3.000000  ...      0.713000         3447.000000\n",
              "50%     2002.000000     25.000000  ...      0.779000         9372.000000\n",
              "75%     2008.000000    131.000000  ...      0.855000        24874.000000\n",
              "max     2016.000000  22338.000000  ...      0.944000       126352.000000\n",
              "\n",
              "[8 rows x 6 columns]"
            ]
          },
          "metadata": {
            "tags": []
          },
          "execution_count": 9
        }
      ]
    },
    {
      "cell_type": "markdown",
      "metadata": {
        "id": "USVfob-w1FU9",
        "colab_type": "text"
      },
      "source": [
        "**Visão Global**\n",
        "\n",
        "Antes de iniciar de fato as análises sobre os dados do Brasil, precisamos ter uma visão do comportamento dos dados no restante do mundo. Para isso, podemos gerar alguns gráficos.\n",
        "\n",
        "Vamos descobrir quais países apresentam os maiores números de casos de suicídios em todo o mundo no período de 1985 até 2015."
      ]
    },
    {
      "cell_type": "code",
      "metadata": {
        "id": "g46DXNJU6mB6",
        "colab_type": "code",
        "colab": {
          "base_uri": "https://localhost:8080/",
          "height": 369
        },
        "outputId": "7529f287-e269-4db4-ec3b-a9f8c9741fc5"
      },
      "source": [
        "# PAÍSES COM MAIORES NÚMEROS DE SUICÍDIOS POR 100 MIL HABITANTES\n",
        "\n",
        "suicidios = []\n",
        "for paises in df.country.unique():\n",
        "    suicidios.append(sum(df[df['country'] == paises].suicides_no))\n",
        "\n",
        "suicidios = pd.DataFrame(suicidios, columns = ['suicidios'])\n",
        "paises = pd.DataFrame(df.country.unique(), columns=['paises'])\n",
        "num_suicidio = pd.concat([suicidios, paises], axis = 1)\n",
        "\n",
        "num_suicidio = num_suicidio.sort_values(by = 'suicidios', ascending = False)\n",
        "\n",
        "fig, ax = plt.subplots(figsize = (10,5))\n",
        "sns.barplot(y = num_suicidio.paises[:15], x = num_suicidio.suicidios[:15])\n",
        "\n",
        "plt.tight_layout()"
      ],
      "execution_count": 10,
      "outputs": [
        {
          "output_type": "display_data",
          "data": {
            "image/png": "[encoded data removed]",
            "text/plain": [
              "<Figure size 720x360 with 1 Axes>"
            ]
          },
          "metadata": {
            "tags": [],
            "needs_background": "light"
          }
        }
      ]
    },
    {
      "cell_type": "markdown",
      "metadata": {
        "id": "ydBHTC3P1LLJ",
        "colab_type": "text"
      },
      "source": [
        "Os números mais impressionantes são os da Rússia, Estados Unidos da América e Japão, que apresentam, pelo menos, duas vezes mais casos de suicídios do que o restante dos países listados. O Brasil aparece na lista como o 8º país com mais casos no período analisado.\n",
        "\n",
        "Sabemos que existem diversas gerações entre as populações mundiais, elas são divididas de acordo com a média de idade de cada grupo. Como será que o comportamento dos dados sobre os casos de suicídios entre essas gerações?"
      ]
    },
    {
      "cell_type": "code",
      "metadata": {
        "id": "0UQ6xUITjAF5",
        "colab_type": "code",
        "colab": {
          "base_uri": "https://localhost:8080/",
          "height": 369
        },
        "outputId": "42b396d2-8f98-4fb1-f169-6304bc649ebd"
      },
      "source": [
        "# TENDÊNCIA DE SUICÍDIO POR GERAÇÃO DA POPULAÇÃO\n",
        "\n",
        "fig, ax = plt.subplots(figsize = (10,5))\n",
        "\n",
        "sns.barplot(x = 'sex', y = 'suicides_no', hue = 'generation', data = df)\n",
        "\n",
        "plt.tight_layout()"
      ],
      "execution_count": 11,
      "outputs": [
        {
          "output_type": "display_data",
          "data": {
            "image/png": "[encoded data removed]",
            "text/plain": [
              "<Figure size 720x360 with 1 Axes>"
            ]
          },
          "metadata": {
            "tags": [],
            "needs_background": "light"
          }
        }
      ]
    },
    {
      "cell_type": "markdown",
      "metadata": {
        "id": "ri4FPL011OWS",
        "colab_type": "text"
      },
      "source": [
        "O gráfico acima mostra os números de suicídios para cada geração divididas por sexo. Nos dois casos, tanto entre os homens quanto mulheres, a geração que apresenta maior número de casos de suicídio é a Boomers. Este grupo da população corresponde àquelas pessoas que nasceram logo após a Segunda Guerra Mundial, até a metade de 1960. Enquanto a Geração Z, nascidos entre 2001 e 2010, apresentam o menor número de casos."
      ]
    },
    {
      "cell_type": "markdown",
      "metadata": {
        "id": "yQOPazaZ1cyR",
        "colab_type": "text"
      },
      "source": [
        "### **Dados do Brasil**\n",
        "\n",
        "Como o objetivo é estudar os dados em relação ao Brasil, será criado um novo conjunto de dados contendo informação apenas referente a esse país.\n",
        "O novo dataset apenas com os dados do Brasil possui **372 linhas e 12 colunas**.\n",
        "Existem dados faltantes nos dados referentes ao Brasil?"
      ]
    },
    {
      "cell_type": "code",
      "metadata": {
        "id": "XKmHwFhMFgR1",
        "colab_type": "code",
        "colab": {
          "base_uri": "https://localhost:8080/",
          "height": 377
        },
        "outputId": "97eb1145-e4a5-477e-d474-07c256f0231c"
      },
      "source": [
        "# DATASET COM DADOS SOBRE O BRASIL\n",
        "\n",
        "df_brasil = df[df.country == 'Brazil'].copy()\n",
        "\n",
        "df_brasil.head()"
      ],
      "execution_count": 12,
      "outputs": [
        {
          "output_type": "execute_result",
          "data": {
            "text/html": [
              "<div>\n",
              "<style scoped>\n",
              "    .dataframe tbody tr th:only-of-type {\n",
              "        vertical-align: middle;\n",
              "    }\n",
              "\n",
              "    .dataframe tbody tr th {\n",
              "        vertical-align: top;\n",
              "    }\n",
              "\n",
              "    .dataframe thead th {\n",
              "        text-align: right;\n",
              "    }\n",
              "</style>\n",
              "<table border=\"1\" class=\"dataframe\">\n",
              "  <thead>\n",
              "    <tr style=\"text-align: right;\">\n",
              "      <th></th>\n",
              "      <th>country</th>\n",
              "      <th>year</th>\n",
              "      <th>sex</th>\n",
              "      <th>age</th>\n",
              "      <th>suicides_no</th>\n",
              "      <th>population</th>\n",
              "      <th>suicides_per_100k_hab</th>\n",
              "      <th>country_year</th>\n",
              "      <th>HDI_for_year</th>\n",
              "      <th>gdp_for_year_($)</th>\n",
              "      <th>gdp_per_capita_($)</th>\n",
              "      <th>generation</th>\n",
              "    </tr>\n",
              "  </thead>\n",
              "  <tbody>\n",
              "    <tr>\n",
              "      <th>4172</th>\n",
              "      <td>Brazil</td>\n",
              "      <td>1985</td>\n",
              "      <td>male</td>\n",
              "      <td>75+ years</td>\n",
              "      <td>129</td>\n",
              "      <td>840300</td>\n",
              "      <td>15.35</td>\n",
              "      <td>Brazil1985</td>\n",
              "      <td>0.576</td>\n",
              "      <td>222,942,790,435</td>\n",
              "      <td>1898</td>\n",
              "      <td>G.I. Generation</td>\n",
              "    </tr>\n",
              "    <tr>\n",
              "      <th>4173</th>\n",
              "      <td>Brazil</td>\n",
              "      <td>1985</td>\n",
              "      <td>male</td>\n",
              "      <td>55-74 years</td>\n",
              "      <td>535</td>\n",
              "      <td>5364900</td>\n",
              "      <td>9.97</td>\n",
              "      <td>Brazil1985</td>\n",
              "      <td>0.576</td>\n",
              "      <td>222,942,790,435</td>\n",
              "      <td>1898</td>\n",
              "      <td>G.I. Generation</td>\n",
              "    </tr>\n",
              "    <tr>\n",
              "      <th>4174</th>\n",
              "      <td>Brazil</td>\n",
              "      <td>1985</td>\n",
              "      <td>male</td>\n",
              "      <td>35-54 years</td>\n",
              "      <td>1011</td>\n",
              "      <td>11986300</td>\n",
              "      <td>8.43</td>\n",
              "      <td>Brazil1985</td>\n",
              "      <td>0.576</td>\n",
              "      <td>222,942,790,435</td>\n",
              "      <td>1898</td>\n",
              "      <td>Silent</td>\n",
              "    </tr>\n",
              "    <tr>\n",
              "      <th>4175</th>\n",
              "      <td>Brazil</td>\n",
              "      <td>1985</td>\n",
              "      <td>male</td>\n",
              "      <td>25-34 years</td>\n",
              "      <td>791</td>\n",
              "      <td>10762900</td>\n",
              "      <td>7.35</td>\n",
              "      <td>Brazil1985</td>\n",
              "      <td>0.576</td>\n",
              "      <td>222,942,790,435</td>\n",
              "      <td>1898</td>\n",
              "      <td>Boomers</td>\n",
              "    </tr>\n",
              "    <tr>\n",
              "      <th>4176</th>\n",
              "      <td>Brazil</td>\n",
              "      <td>1985</td>\n",
              "      <td>male</td>\n",
              "      <td>15-24 years</td>\n",
              "      <td>661</td>\n",
              "      <td>13834000</td>\n",
              "      <td>4.78</td>\n",
              "      <td>Brazil1985</td>\n",
              "      <td>0.576</td>\n",
              "      <td>222,942,790,435</td>\n",
              "      <td>1898</td>\n",
              "      <td>Generation X</td>\n",
              "    </tr>\n",
              "  </tbody>\n",
              "</table>\n",
              "</div>"
            ],
            "text/plain": [
              "     country  year   sex  ... gdp_for_year_($)  gdp_per_capita_($)       generation\n",
              "4172  Brazil  1985  male  ...  222,942,790,435                1898  G.I. Generation\n",
              "4173  Brazil  1985  male  ...  222,942,790,435                1898  G.I. Generation\n",
              "4174  Brazil  1985  male  ...  222,942,790,435                1898           Silent\n",
              "4175  Brazil  1985  male  ...  222,942,790,435                1898          Boomers\n",
              "4176  Brazil  1985  male  ...  222,942,790,435                1898     Generation X\n",
              "\n",
              "[5 rows x 12 columns]"
            ]
          },
          "metadata": {
            "tags": []
          },
          "execution_count": 12
        }
      ]
    },
    {
      "cell_type": "markdown",
      "metadata": {
        "id": "YTwZ-etr1yvt",
        "colab_type": "text"
      },
      "source": [
        "**Existem dados faltantes nos dados referentes ao Brasil?**"
      ]
    },
    {
      "cell_type": "code",
      "metadata": {
        "id": "YqEaDKNRjrNr",
        "colab_type": "code",
        "colab": {
          "base_uri": "https://localhost:8080/",
          "height": 238
        },
        "outputId": "5fc97fdb-3976-4dc3-ee4e-8ec55f224351"
      },
      "source": [
        "((df_brasil.isnull().sum() / df_brasil.shape[0])*100).sort_values(ascending = False)"
      ],
      "execution_count": 13,
      "outputs": [
        {
          "output_type": "execute_result",
          "data": {
            "text/plain": [
              "HDI_for_year             67.741935\n",
              "generation                0.000000\n",
              "gdp_per_capita_($)        0.000000\n",
              "gdp_for_year_($)          0.000000\n",
              "country_year              0.000000\n",
              "suicides_per_100k_hab     0.000000\n",
              "population                0.000000\n",
              "suicides_no               0.000000\n",
              "age                       0.000000\n",
              "sex                       0.000000\n",
              "year                      0.000000\n",
              "country                   0.000000\n",
              "dtype: float64"
            ]
          },
          "metadata": {
            "tags": []
          },
          "execution_count": 13
        }
      ]
    },
    {
      "cell_type": "markdown",
      "metadata": {
        "id": "uuVONgMG13U-",
        "colab_type": "text"
      },
      "source": [
        "Assim como no dataset geral, para o Brasil só existem valores ausentes na variável HDI for year. Contudo, corresponde a quase 68% das entradas dessa variável, ou seja, 252 valores faltantes.\n",
        "Apesar disso, a ausência desses dados não irão interferir muito das análises propostas neste projeto."
      ]
    },
    {
      "cell_type": "markdown",
      "metadata": {
        "id": "4rfLy_Ad2EAJ",
        "colab_type": "text"
      },
      "source": [
        "**Taxa de Suicídio no Brasil**\n",
        "\n",
        "A primeira análise a ser realizada será comparar a tendência da taxa de suicídio no Brasil com os demais países."
      ]
    },
    {
      "cell_type": "code",
      "metadata": {
        "id": "_qaTDi2fdC_4",
        "colab_type": "code",
        "colab": {
          "base_uri": "https://localhost:8080/",
          "height": 441
        },
        "outputId": "989e2d59-16f3-496b-c6ce-bddb4b7457f9"
      },
      "source": [
        "# COMPARAÇÃO DOS CASOS DE SUICÍDIO: BRASIL - MUNDO\n",
        "\n",
        "fig, ax = plt.subplots(figsize = (11,6))\n",
        "\n",
        "ax = sns.lineplot(x = df_brasil['year'], y = df_brasil['suicides_per_100k_hab'], color = 'b', label = 'Brasil')\n",
        "ax = sns.lineplot(x = df['year'],  y = df['suicides_per_100k_hab'], color = 'r', label = 'Mundo')\n",
        "\n",
        "plt.title('Comparação dos Casos de Suicídio no Brasil e no Mundo')\n",
        "plt.xlabel('Ano')\n",
        "plt.ylabel('Núemro de suicídios por 100 mil habitantes')\n",
        "plt.xlim(1985, 2015)\n",
        "\n",
        "plt.tight_layout()"
      ],
      "execution_count": 14,
      "outputs": [
        {
          "output_type": "display_data",
          "data": {
            "image/png": "[encoded data removed]",
            "text/plain": [
              "<Figure size 792x432 with 1 Axes>"
            ]
          },
          "metadata": {
            "tags": [],
            "needs_background": "light"
          }
        }
      ]
    },
    {
      "cell_type": "markdown",
      "metadata": {
        "id": "xBHCJa362Jxz",
        "colab_type": "text"
      },
      "source": [
        "No gráfico acima podemos observar que apesar da taxa de suicídio no Brasil ser bem inferior ao da restante do mundo, os números ainda são preocupantes, pois a taxa do Brasil praticamente só teve aumento durante 30 anos, enquanto a taxa mundial diminuiu a partir de 1995."
      ]
    },
    {
      "cell_type": "markdown",
      "metadata": {
        "id": "YhzdYU-Y2MAD",
        "colab_type": "text"
      },
      "source": [
        "**Faixa Etária com Maior Índice de Suicídio**\n",
        "\n",
        "Através de um gráfico de barras, fica fácil visualizar quais faixas etárias estão sendo mais afetadas com o problema de suicídio no Brasil. Foram analisadas 6 faixas de idade."
      ]
    },
    {
      "cell_type": "code",
      "metadata": {
        "id": "OSAbDUMnVITc",
        "colab_type": "code",
        "colab": {
          "base_uri": "https://localhost:8080/",
          "height": 441
        },
        "outputId": "7245ab4f-2681-47af-af50-cb05244fc367"
      },
      "source": [
        "# ÍNDICE DE SUICÍDIO POR FAIXA ETÁRIA\n",
        "\n",
        "idade = df_brasil.groupby('age')['suicides_no'].sum().sort_values(ascending = False)\n",
        "eixox = idade.index\n",
        "\n",
        "plt.figure(figsize = (10,6))\n",
        "sns.barplot(x = eixox, y = idade)\n",
        "plt.title('Índice de Suicídio')\n",
        "plt.xlabel('Faixa Etária')\n",
        "plt.ylabel('Núemro de suicídios')\n",
        "\n",
        "plt.tight_layout()"
      ],
      "execution_count": 15,
      "outputs": [
        {
          "output_type": "display_data",
          "data": {
            "image/png": "[encoded data removed]",
            "text/plain": [
              "<Figure size 720x432 with 1 Axes>"
            ]
          },
          "metadata": {
            "tags": [],
            "needs_background": "light"
          }
        }
      ]
    },
    {
      "cell_type": "markdown",
      "metadata": {
        "id": "IQMNDWC22Qok",
        "colab_type": "text"
      },
      "source": [
        "Acima, podemos facilmente identificar que o grupo de pessoas que mais cometem suicídio é composto por pessoas cuja idade varia entre 35 e 54 anos. Em seguida, aparecem as pessoas com idades entre 25 e 34 anos.\n",
        "\n",
        "Juntos, esses dois grupos correspondem a quase 60% de todos os casos de suicídio no país."
      ]
    },
    {
      "cell_type": "markdown",
      "metadata": {
        "id": "l3FqYNSq2UHx",
        "colab_type": "text"
      },
      "source": [
        "**Taxa de Suicídio entre Homens e Mulheres**\n",
        "\n",
        "Esta análise é fundamental, pois podemos verificar qual dos sexos está sendo mais afetado com esse problema de saúde pública, homens ou mulheres."
      ]
    },
    {
      "cell_type": "code",
      "metadata": {
        "id": "1zA_NYQrdgZn",
        "colab_type": "code",
        "colab": {
          "base_uri": "https://localhost:8080/",
          "height": 248
        },
        "outputId": "47d1d09f-5c66-4bfd-cd5e-a2fcba5b09df"
      },
      "source": [
        "# GRÁFICO DE PIZZA: TAXA DE SUICÍDIO ENTRE HOMENS E MULHERES\n",
        "\n",
        "genero = df_brasil.groupby('sex')['suicides_no'].sum()\n",
        "\n",
        "plt.pie(genero, labels = genero.index,autopct='%.2f%%', shadow=True, colors = ['pink', 'orange'], explode=[0.1, 0]);"
      ],
      "execution_count": 16,
      "outputs": [
        {
          "output_type": "display_data",
          "data": {
            "image/png": "[encoded data removed]",
            "text/plain": [
              "<Figure size 432x288 with 1 Axes>"
            ]
          },
          "metadata": {
            "tags": []
          }
        }
      ]
    },
    {
      "cell_type": "markdown",
      "metadata": {
        "id": "SHe2UrV52YDA",
        "colab_type": "text"
      },
      "source": [
        "Observando o gráfico acima, podemos identificar facilmente que a taxa de suicídio é muito maior entre os **homens**, correspondendo a cerca de **78%**, enquanto as **mulheres** correspondem a **22%**."
      ]
    },
    {
      "cell_type": "markdown",
      "metadata": {
        "id": "QVhX4Ytm2pOX",
        "colab_type": "text"
      },
      "source": [
        "**A Contribuição da Ciência de Dados na Prevenção do Suicídio**\n",
        "\n",
        "Em 2013, o Brasil começou a fazer parte do \"Plano de Ação sobre Saúde Mental 2013–2020\", feito pela Organização Mundial da Saúde, cujo objetivo era promover a redução da taxa de suicídio em 10% até o ano de 2020. Contudo, as pesquisas indicam que a taxa de suicídio aumentou, o que preocupa muito governo.\n",
        "\n",
        "Diversas iniciativas estão sendo tomadas por algumas empresas do setor de tecnologia, especialmente com o uso de Inteligência Artificial, analisando padrões de escrita em redes sociais e ajudar a prever possíveis casos de suicídio. Contudo, a IA se aplica em várias outras situações que contribuem para a prevenção do suicídio.\n",
        "\n",
        "Vale ressaltar que o conjunto de dados utilizado no presente artigo é relativamente pequeno e simples, mas que serve muito bem para o objetivo proposto e realizar análises iniciais.\n",
        "\n",
        "**Necessita de Ajuda? Ligue para 188**\n",
        "\n",
        "No Brasil, o CVV - Centro de Valorização da Vida realiza apoio emocional e prevenção do suicídio, atendendo voluntária e gratuitamente todas as pessoas que querem e precisam conversar, sob total sigilo, por telefone (basta discar 188), e-mail e chat 24 horas todos os dias."
      ]
    },
    {
      "cell_type": "markdown",
      "metadata": {
        "id": "OAHU_KFw3BUF",
        "colab_type": "text"
      },
      "source": [
        "### **Acha que este artigo e conteúdo pode ajudar outras pessoas? Sinta-se à vontade para compartilhá-lo.**"
      ]
    }
  ]
}